{
 "cells": [
  {
   "cell_type": "markdown",
   "metadata": {},
   "source": [
    "# Data Types and Structures Questions"
   ]
  },
  {
   "cell_type": "markdown",
   "metadata": {},
   "source": [
    "1. What are data structures, and why are they important?\n",
    "\n",
    "--> The way of organizing data and storing them in any data types so that it can accessed and manipulated it.there are so many methods or data types that is used to create a structure of any data and the structures are both mutable and immutable.\n",
    "\n",
    "example:- list,string, tuples,set,dictionary,array\n",
    "\n",
    "-->Importance of data structures.\n",
    "1. main reason that it is easy to accessed any structure data rather then any unstructure data. It take less time during accessing any element.\n",
    "\n",
    "2. uses like for management sector, their all the data of client or employe's need to be stored in a particular manner so  by using list and dictionaries it wiil be easy to handle all the information for adding, deleting ,etc. "
   ]
  },
  {
   "cell_type": "markdown",
   "metadata": {},
   "source": [
    "2.  Explain the difference between mutable and immutable data types with examples.\n",
    "\n",
    "--> In python, mutable data types are those data type which allows user that they can accessed tha data and rewrite the data after storing and it is mainly use for where one's the data is stored and it need to flexible to add n number data's or remove exiting ones without create new object.\n",
    "\n",
    "use case:- imagine you lived in place and the address must be stored in you profile or account but after some time you change the place so a new address will be stored in profile. "
   ]
  },
  {
   "cell_type": "code",
   "execution_count": 5,
   "metadata": {},
   "outputs": [
    {
     "name": "stdout",
     "output_type": "stream",
     "text": [
      "1\n",
      "[1, 'srijan', 3]\n"
     ]
    }
   ],
   "source": [
    "list = [1,2,3]\n",
    "print(list[0]) #accessing any element by index\n",
    "list[1]=\"srijan\"#change any element \n",
    "print(list)\n"
   ]
  },
  {
   "cell_type": "markdown",
   "metadata": {},
   "source": [
    "--> In python, immutable data types allows user only accessed the any element in read mode you did not have any access to change any element or add any element.If anyone try to modify the objects its create a new object in memory or it will through an error.\n",
    "Example- tuples,string,etc."
   ]
  },
  {
   "cell_type": "code",
   "execution_count": null,
   "metadata": {},
   "outputs": [],
   "source": [
    "tuple = (1,\"srijan\",3,4)\n",
    "print(tuple[1]) # accessing data from tuple\n",
    "tuple[1]= 5 #try to change  the value of index 1 \n",
    "print(tuple) #output through an error\n"
   ]
  },
  {
   "cell_type": "markdown",
   "metadata": {},
   "source": [
    "3. What are the main differences between lists and tuples in Python.\n",
    "\n",
    "--> In python,The main differnece is list are mutable and tuples are immutable,  it means list allows user to change, add,update etc the values one's after storing values. Tuples  rae not changble it allows user only accesing any element in read-mode. use case, list use where one's after storing element you want change the values and tuples are use for you can't need to change values. "
   ]
  },
  {
   "cell_type": "markdown",
   "metadata": {},
   "source": [
    "4. Describe how dictionaries store data.\n",
    "\n",
    "--> In pyhton, dictionaries stored the values in key pairs. it means every key value have a unique identifier.That is to access corospond the values.so,A dictionary is a collection of unordered ,mutablea and indexed key-value pairs"
   ]
  },
  {
   "cell_type": "markdown",
   "metadata": {},
   "source": [
    "5. Why might you use a set instead of a list in Python?\n",
    "\n",
    "-->set's stored unique element and it do not maintain order of element,unlike list. set automaticlly delete all the duplicate element and stored only one unique value.so, list stored every element it could not delete any element but in any case you don't want to repeat any element then set is use their instead of list. And also you want union,intersection,difference and symetric difference  operation then set provide this which are not directly available for lists   "
   ]
  },
  {
   "cell_type": "markdown",
   "metadata": {},
   "source": [
    "6. What is a string in Python, and how is it different from a list?\n",
    "\n",
    "--> In python, string are immutbale object where you can't change any one element from any string. so if you want change any element then it create a new string.\n",
    "\n",
    "-->list can stored all types of data and it is immutable and you easily access any element bye their index value also python allows to change enything. list is mainly use for collect n number of element in it."
   ]
  },
  {
   "cell_type": "markdown",
   "metadata": {},
   "source": [
    "7. How do tuples ensure data integrity in Python?\n",
    "\n",
    "--> In python, tupels don't allow anyone to change any value one's it stored.it is particularly useful in scenarios where data consistency is crucial.It's have a predifned length and structue. "
   ]
  },
  {
   "cell_type": "markdown",
   "metadata": {},
   "source": [
    "8.  What is a hash table, and how does it relate to dictionaries in Python?\n",
    "\n",
    "-->In python, every element or valus have it's own index its called hush values. Hash table uses a hashing function to compute an index form key values for allowing fast access to the associated data. so in dictionaries every key element have their own value for efficient insertions , deletation and other process to store the values in a particular key values and that is stored in pairs then the process of storing the values is called hash table"
   ]
  },
  {
   "cell_type": "markdown",
   "metadata": {},
   "source": [
    "9. Can lists contain different data types in Python? \n",
    "\n",
    "--> yes , list can contain different data types. python list are dynamic and heterogenous. It means you can mix integers , float , object or even other list."
   ]
  },
  {
   "cell_type": "markdown",
   "metadata": {},
   "source": [
    "10. Explain why strings are immutable in Python.\n",
    "\n",
    "-->In python strings are immutbale . meaning that onece a string is stored then it cannot be change but when you try to modified any string then  it will be a new string object. mainly string enhance performance and maintain thread safty and simplify the lamguage.  string can be stored in memory and refused when identical strings are created.\n"
   ]
  },
  {
   "cell_type": "markdown",
   "metadata": {},
   "source": [
    "11. What advantages do dictionaries offer over lists for certain tasks.\n",
    "\n",
    "--> In dictinaries it stored values as a key-vlue pairs. so in list it is stored in one line means it stored in same memory location by thier index value.but in dictinories you can access those element by their key value pairs and it easy to understand for accessing any element over list.also list can stored as a value of any key.For this reason dictionarie is more efficient than list. "
   ]
  },
  {
   "cell_type": "markdown",
   "metadata": {},
   "source": [
    "12. Describe a scenario where using a tuple would be preferable over a list.\n",
    "\n",
    "--> like you can imagine you are creating a code for getting the information of any student.where the main points like their name, DOB and some specific details that you don't want to change. then in this case tuple secure tha data integrity and for their fixed size its not possible that the values are accidently modified. tuples can be used a key in dictionary if you need to associate additional data."
   ]
  },
  {
   "cell_type": "markdown",
   "metadata": {},
   "source": [
    "13. How do sets handle duplicate values in Python.\n",
    "\n",
    "--> In python set use mathemetical concept which do not allows duplicate values so it means set stored unique a specific values. when an element is add to a set then values match the existing element and cheak for equality.so that's why set didnot provide any indexing values. It is ideal for those cases where you don't want duplication of any element so it's automaticly remove duplicate element."
   ]
  },
  {
   "cell_type": "markdown",
   "metadata": {},
   "source": [
    "14. How does the “in” keyword work differently for lists and dictionaries?\n",
    "\n",
    "--> 'in' keyword use to cheak exixtence of any element within collection, such as a list or dictionaries. in list \"in\" keyword use to cheak that the sepcific element is in the list or not. And in dictionaries \"in\" keyword automaticly cheak the key's and this operation is more efficient than list.  "
   ]
  },
  {
   "cell_type": "markdown",
   "metadata": {},
   "source": [
    "15. Can you modify the elements of a tuple? Explain why or why not?\n",
    "\n",
    "-->No, you cannot change the values of tuple. Tuples are immutable and once you stored values in it then it will be not change anymore or remove.\n",
    "\n",
    "-->Tuples have  special use case where tuple use for data integrity especialy where the data should not change.but you can modify object within a tuple like you can stored a list in tuple that you can modify but because list is mutable."
   ]
  },
  {
   "cell_type": "markdown",
   "metadata": {},
   "source": [
    "16. What is a nested dictionary, and give an example of its use case?\n",
    "\n",
    "-->It is process soring values in dictionary and also values are themselves dictionaries. This stucture allows to organize and store data dynamiclly making it easy to representing.\n",
    "\n",
    "--> use case like storing values of students."
   ]
  },
  {
   "cell_type": "code",
   "execution_count": 1,
   "metadata": {},
   "outputs": [
    {
     "name": "stdout",
     "output_type": "stream",
     "text": [
      "{'stu1': {'name': 'srijan deyashi', 'roll': 20, 'age': 20}, 'stu2': {'name': 'megh biswas', 'roll': 22, 'age': 5}}\n"
     ]
    }
   ],
   "source": [
    "student = { \"stu1\" : {\n",
    "    \"name\" : \"srijan deyashi\",\n",
    "    \"roll\" : 20,\n",
    "    \"age\" : 20\n",
    "         },\n",
    "\"stu2\" : {\n",
    "    \"name\" : \"megh biswas\",\n",
    "    \"roll\" : 22,\n",
    "    \"age\" : 5\n",
    "}}\n",
    "\n",
    "print(student)\n",
    "\n"
   ]
  },
  {
   "cell_type": "markdown",
   "metadata": {},
   "source": [
    "17. Describe the time complexity of accessing elements in a dictionary.\n",
    "\n",
    "-->The time complexity of accessing any element is depeds on the operation being parformed.like accessing a values by key --> when accessing a value by its key.this makes lookups extremely in most case."
   ]
  },
  {
   "cell_type": "markdown",
   "metadata": {},
   "source": [
    "18. In what situations are lists preferred over dictionaries?\n",
    "\n",
    "--> List are maintain order of element. if you need to access elements in a specific sequence.List can not store any specific key value so list is simpler and intuitive. List allows to store dulicate values, where dictionary keys must be unique.list have better performance for direct iteration over element."
   ]
  },
  {
   "cell_type": "markdown",
   "metadata": {},
   "source": [
    "19. Why are dictionaries considered unordered, and how does that affect data retrieval?\n",
    "\n",
    "-->Dictionaries considerdered unordered collections because, in python version 3.7.they did not gurantee that items would maintain the order in which they were inserted.dictionaries store key values pair.Effect data retrival: iterating over keys, values or item are different order it depends on use cases. For most of the cases it behave like ordered collections regarding iretation.dictionaries not support index based access . for accessing data require a key."
   ]
  },
  {
   "cell_type": "markdown",
   "metadata": {},
   "source": [
    "20.  Explain the difference between a list and a dictionary in terms of data retrieval.\n",
    "\n",
    "--> In python, list can be access by their index-based values.and also for adding,remove or etc operation are use by accessing index. list are order collection or data. Dictionaries have  key-value pairs which do not have any indexing value and it access by their key. for adding, removing oparation the key must be exist in the dictionaries.means for accessing data require a key.dictionaries are unorderd collection of data. for both cases the element must be their."
   ]
  },
  {
   "cell_type": "markdown",
   "metadata": {},
   "source": [
    "# Practical Questions\n"
   ]
  },
  {
   "cell_type": "markdown",
   "metadata": {},
   "source": [
    "1. Write a code to create a string with your name and print it."
   ]
  },
  {
   "cell_type": "code",
   "execution_count": 10,
   "metadata": {},
   "outputs": [
    {
     "name": "stdout",
     "output_type": "stream",
     "text": [
      "my name is  srijan deyashi\n"
     ]
    }
   ],
   "source": [
    "string = \"srijan deyashi\"\n",
    "print(\"my name is \",string)\n"
   ]
  },
  {
   "cell_type": "markdown",
   "metadata": {},
   "source": [
    "2. Write a code to find the length of the string \"Hello World\"."
   ]
  },
  {
   "cell_type": "code",
   "execution_count": 12,
   "metadata": {},
   "outputs": [
    {
     "name": "stdout",
     "output_type": "stream",
     "text": [
      "The lenght of string is 11\n"
     ]
    }
   ],
   "source": [
    "string = \"Hello World\"\n",
    "length = len(string)\n",
    "print(\"The lenght of string is\",length) \n"
   ]
  },
  {
   "cell_type": "markdown",
   "metadata": {},
   "source": [
    "3.  Write a code to slice the first 3 characters from the string \"Python Programming\"."
   ]
  },
  {
   "cell_type": "code",
   "execution_count": 1,
   "metadata": {},
   "outputs": [
    {
     "name": "stdout",
     "output_type": "stream",
     "text": [
      "Pyt\n"
     ]
    }
   ],
   "source": [
    "string = \"Python Programming\"\n",
    "slicing = string[0:3]\n",
    "print(slicing)\n"
   ]
  },
  {
   "cell_type": "markdown",
   "metadata": {},
   "source": [
    "4. Write a code to convert the string \"hello\" to uppercase.\n"
   ]
  },
  {
   "cell_type": "code",
   "execution_count": 2,
   "metadata": {},
   "outputs": [
    {
     "name": "stdout",
     "output_type": "stream",
     "text": [
      "HELLO\n"
     ]
    }
   ],
   "source": [
    "string = \"hello\"\n",
    "upper_case = string.upper() \n",
    "print(upper_case)\n"
   ]
  },
  {
   "cell_type": "markdown",
   "metadata": {},
   "source": [
    "5. Write a code to replace the word \"apple\" with \"orange\" in the string \"I like apple\". "
   ]
  },
  {
   "cell_type": "code",
   "execution_count": 5,
   "metadata": {},
   "outputs": [
    {
     "name": "stdout",
     "output_type": "stream",
     "text": [
      "i like orange\n"
     ]
    }
   ],
   "source": [
    "string =\"i like apple\"\n",
    "change_value = string.replace(\"apple\",\"orange\")\n",
    "print(change_value)\n"
   ]
  },
  {
   "cell_type": "markdown",
   "metadata": {},
   "source": [
    "6. Write a code to create a list with numbers 1 to 5 and print it."
   ]
  },
  {
   "cell_type": "code",
   "execution_count": 13,
   "metadata": {},
   "outputs": [
    {
     "name": "stdout",
     "output_type": "stream",
     "text": [
      "[1, 2, 3, 4, 5]\n"
     ]
    }
   ],
   "source": [
    "list = [1,2,3,4,5]\n",
    "print(list)\n"
   ]
  },
  {
   "cell_type": "markdown",
   "metadata": {},
   "source": [
    "7. Write a code to append the number 10 to the list [1, 2, 3, 4].\n"
   ]
  },
  {
   "cell_type": "code",
   "execution_count": 15,
   "metadata": {},
   "outputs": [
    {
     "name": "stdout",
     "output_type": "stream",
     "text": [
      "[1, 2, 3, 4, 10]\n"
     ]
    }
   ],
   "source": [
    "list=[1,2,3,4]\n",
    "list.append(10)\n",
    "print(list)\n"
   ]
  },
  {
   "cell_type": "markdown",
   "metadata": {},
   "source": [
    "8. Write a code to remove the number 3 from the list [1, 2, 3, 4, 5].\n"
   ]
  },
  {
   "cell_type": "code",
   "execution_count": 16,
   "metadata": {},
   "outputs": [
    {
     "name": "stdout",
     "output_type": "stream",
     "text": [
      "[1, 2, 4, 5]\n"
     ]
    }
   ],
   "source": [
    "list = [1,2,3,4,5]\n",
    "list.remove(3)\n",
    "print(list)\n"
   ]
  },
  {
   "cell_type": "markdown",
   "metadata": {},
   "source": [
    "9. Write a code to access the second element in the list ['a', 'b', 'c', 'd']."
   ]
  },
  {
   "cell_type": "code",
   "execution_count": 18,
   "metadata": {},
   "outputs": [
    {
     "name": "stdout",
     "output_type": "stream",
     "text": [
      "b\n"
     ]
    }
   ],
   "source": [
    "list = ['a', 'b', 'c', 'd']\n",
    "accessing = list[1]\n",
    "print(accessing)\n"
   ]
  },
  {
   "cell_type": "markdown",
   "metadata": {},
   "source": [
    "10.  Write a code to reverse the list [10, 20, 30, 40, 50].\n"
   ]
  },
  {
   "cell_type": "code",
   "execution_count": 21,
   "metadata": {},
   "outputs": [
    {
     "name": "stdout",
     "output_type": "stream",
     "text": [
      "[50, 40, 30, 20, 10]\n"
     ]
    }
   ],
   "source": [
    "list = [10, 20, 30, 40, 50]\n",
    "print(list[::-1])\n"
   ]
  },
  {
   "cell_type": "markdown",
   "metadata": {},
   "source": [
    "11. Write a code to create a tuple with the elements 10, 20, 30 and print it."
   ]
  },
  {
   "cell_type": "code",
   "execution_count": 22,
   "metadata": {},
   "outputs": [
    {
     "name": "stdout",
     "output_type": "stream",
     "text": [
      "(10, 20, 30)\n"
     ]
    }
   ],
   "source": [
    "tuple = (10,20,30)\n",
    "print(tuple)\n"
   ]
  },
  {
   "cell_type": "markdown",
   "metadata": {},
   "source": [
    "12. Write a code to access the first element of the tuple ('apple', 'banana', 'cherry')."
   ]
  },
  {
   "cell_type": "code",
   "execution_count": 23,
   "metadata": {},
   "outputs": [
    {
     "data": {
      "text/plain": [
       "'apple'"
      ]
     },
     "execution_count": 23,
     "metadata": {},
     "output_type": "execute_result"
    }
   ],
   "source": [
    "tuple = ('apple', 'banana', 'cherry')\n",
    "tuple[0]\n"
   ]
  },
  {
   "cell_type": "markdown",
   "metadata": {},
   "source": [
    "13. Write a code to count how many times the number 2 appears in the tuple (1, 2, 3, 2, 4, 2)."
   ]
  },
  {
   "cell_type": "code",
   "execution_count": 24,
   "metadata": {},
   "outputs": [
    {
     "name": "stdout",
     "output_type": "stream",
     "text": [
      "3\n"
     ]
    }
   ],
   "source": [
    "tuple = (1, 2, 3, 2, 4, 2)\n",
    "count = tuple.count(2)\n",
    "print(count)\n"
   ]
  },
  {
   "cell_type": "markdown",
   "metadata": {},
   "source": [
    "14.  Write a code to find the index of the element \"cat\" in the tuple ('dog', 'cat', 'rabbit'). "
   ]
  },
  {
   "cell_type": "code",
   "execution_count": 26,
   "metadata": {},
   "outputs": [
    {
     "name": "stdout",
     "output_type": "stream",
     "text": [
      "1\n"
     ]
    }
   ],
   "source": [
    "tuple = ('dog', 'cat', 'rabbit')\n",
    "index = tuple.index(\"cat\")\n",
    "print(index)\n"
   ]
  },
  {
   "cell_type": "markdown",
   "metadata": {},
   "source": [
    "15. Write a code to check if the element \"banana\" is in the tuple ('apple', 'orange', 'banana')."
   ]
  },
  {
   "cell_type": "code",
   "execution_count": 30,
   "metadata": {},
   "outputs": [
    {
     "name": "stdout",
     "output_type": "stream",
     "text": [
      "True\n"
     ]
    }
   ],
   "source": [
    "tuple = ('apple', 'orange', 'banana')\n",
    "find = \"banana\"\n",
    "if find in tuple:\n",
    "    print(\"True\")\n",
    "else:\n",
    "    print(\"False\")\n"
   ]
  },
  {
   "cell_type": "markdown",
   "metadata": {},
   "source": [
    "16. Write a code to create a set with the elements 1, 2, 3, 4, 5 and print it."
   ]
  },
  {
   "cell_type": "code",
   "execution_count": 31,
   "metadata": {},
   "outputs": [
    {
     "name": "stdout",
     "output_type": "stream",
     "text": [
      "{1, 2, 3, 4, 5}\n"
     ]
    }
   ],
   "source": [
    "set = {1, 2, 3, 4, 5}\n",
    "print(set)\n"
   ]
  },
  {
   "cell_type": "markdown",
   "metadata": {},
   "source": [
    "17. Write a code to add the element 6 to the set {1, 2, 3, 4}."
   ]
  },
  {
   "cell_type": "code",
   "execution_count": 33,
   "metadata": {},
   "outputs": [
    {
     "name": "stdout",
     "output_type": "stream",
     "text": [
      "{1, 2, 3, 4, 6}\n"
     ]
    }
   ],
   "source": [
    "set = {1, 2, 3, 4}\n",
    "set.add(6)\n",
    "print(set)\n"
   ]
  },
  {
   "cell_type": "markdown",
   "metadata": {},
   "source": [
    "18. Write a code to create a tuple with the elements 10, 20, 30 and print it."
   ]
  },
  {
   "cell_type": "code",
   "execution_count": 34,
   "metadata": {},
   "outputs": [
    {
     "name": "stdout",
     "output_type": "stream",
     "text": [
      "(10, 20, 30)\n"
     ]
    }
   ],
   "source": [
    "tuple = (10,20,30)\n",
    "print(tuple)\n"
   ]
  },
  {
   "cell_type": "markdown",
   "metadata": {},
   "source": [
    "19. Write a code to access the first element of the tuple ('apple', 'banana', 'cherry')"
   ]
  },
  {
   "cell_type": "code",
   "execution_count": 35,
   "metadata": {},
   "outputs": [
    {
     "data": {
      "text/plain": [
       "'apple'"
      ]
     },
     "execution_count": 35,
     "metadata": {},
     "output_type": "execute_result"
    }
   ],
   "source": [
    "tuple = ('apple', 'banana', 'cherry')\n",
    "tuple[0]\n"
   ]
  },
  {
   "cell_type": "markdown",
   "metadata": {},
   "source": [
    "20. Write a code to count how many times the number 2 appears in the tuple (1, 2, 3, 2, 4, 2)."
   ]
  },
  {
   "cell_type": "code",
   "execution_count": 37,
   "metadata": {},
   "outputs": [
    {
     "name": "stdout",
     "output_type": "stream",
     "text": [
      "3\n"
     ]
    }
   ],
   "source": [
    "tuple = (1, 2, 3, 2, 4, 2)\n",
    "count = tuple.count(2)\n",
    "print(count)\n"
   ]
  },
  {
   "cell_type": "markdown",
   "metadata": {},
   "source": [
    "21. Write a code to find the index of the element \"cat\" in the tuple ('dog', 'cat', 'rabbit')."
   ]
  },
  {
   "cell_type": "code",
   "execution_count": 36,
   "metadata": {},
   "outputs": [
    {
     "name": "stdout",
     "output_type": "stream",
     "text": [
      "1\n"
     ]
    }
   ],
   "source": [
    "tuple = ('dog', 'cat', 'rabbit')\n",
    "index = tuple.index(\"cat\")\n",
    "print(index)\n"
   ]
  },
  {
   "cell_type": "markdown",
   "metadata": {},
   "source": [
    "22. Write a code to check if the element \"banana\" is in the tuple ('apple', 'orange', 'banana')."
   ]
  },
  {
   "cell_type": "code",
   "execution_count": null,
   "metadata": {},
   "outputs": [],
   "source": [
    "tuple = ('apple', 'orange', 'banana')\n",
    "find = \"banana\"\n",
    "if find in tuple:\n",
    "    print(\"True\")\n",
    "else:\n",
    "    print(\"False\")\n"
   ]
  },
  {
   "cell_type": "markdown",
   "metadata": {},
   "source": [
    "23. Write a code to create a set with the elements 1, 2, 3, 4, 5 and print it."
   ]
  },
  {
   "cell_type": "code",
   "execution_count": null,
   "metadata": {},
   "outputs": [],
   "source": [
    "set = {1, 2, 3, 4, 5}\n",
    "print(set)\n"
   ]
  },
  {
   "cell_type": "markdown",
   "metadata": {},
   "source": [
    "24.  Write a code to add the element 6 to the set {1, 2, 3, 4}."
   ]
  },
  {
   "cell_type": "code",
   "execution_count": 38,
   "metadata": {},
   "outputs": [
    {
     "name": "stdout",
     "output_type": "stream",
     "text": [
      "{1, 2, 3, 4, 6}\n"
     ]
    }
   ],
   "source": [
    "set = {1, 2, 3, 4}\n",
    "set.add(6)\n",
    "print(set)\n"
   ]
  }
 ],
 "metadata": {
  "kernelspec": {
   "display_name": "base",
   "language": "python",
   "name": "python3"
  },
  "language_info": {
   "codemirror_mode": {
    "name": "ipython",
    "version": 3
   },
   "file_extension": ".py",
   "mimetype": "text/x-python",
   "name": "python",
   "nbconvert_exporter": "python",
   "pygments_lexer": "ipython3",
   "version": "3.12.7"
  }
 },
 "nbformat": 4,
 "nbformat_minor": 2
}
