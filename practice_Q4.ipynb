{
 "cells": [
  {
   "cell_type": "markdown",
   "metadata": {},
   "source": [
    "# Python OOPs Questions"
   ]
  },
  {
   "cell_type": "markdown",
   "metadata": {},
   "source": [
    "1.  What is Object-Oriented Programming (OOP)?\n",
    "\n",
    "-->>Object-Oriented Programming (OOP) is a programming paradigm that organizes code into objects, which are instances of classes. OOP focuses on modeling real-world entities and their interactions through concepts like:\n",
    "\n",
    "Encapsulation: Bundling data and methods that operate on it into a single unit (class), restricting access to some internal details.\n",
    "\n",
    "Inheritance: Allowing a class to inherit properties and methods from another class, promoting code reuse.\n",
    "\n",
    "Polymorphism: Allowing objects of different classes to be treated as instances of a common superclass, enabling flexible and reusable code.\n",
    "\n",
    "Abstraction: Hiding complex implementation details and exposing only the essential features to the user."
   ]
  },
  {
   "cell_type": "markdown",
   "metadata": {},
   "source": [
    "2.  What is a class in OOP?\n",
    "\n",
    "-->>A class in OOP (Object-Oriented Programming) is a blueprint or template for creating objects. It defines the attributes (data) and methods (functions) that the objects created from the class will have. A class encapsulates behavior and data together, providing a structure for creating multiple instances (objects) with shared functionality."
   ]
  },
  {
   "cell_type": "markdown",
   "metadata": {},
   "source": [
    "3. What is an object in OOP?\n",
    "\n",
    "-->> An object in OOP (Object-Oriented Programming) is an instance of a class. It is a self-contained unit that encapsulates both data (attributes) and behaviors (methods) that operate on the data. Objects interact with each other by calling methods and exchanging data, and each object can have its own unique state."
   ]
  },
  {
   "cell_type": "markdown",
   "metadata": {},
   "source": [
    "4. What is the difference between abstraction and encapsulation?\n",
    "\n",
    "-->> Abstraction:\n",
    "\n",
    "Hides complex implementation details and exposes only essential features or behaviors.\n",
    "Focuses on \"what\" an object does.\n",
    "Achieved using abstract classes, interfaces, and methods\n",
    "\n",
    "-->>Encapsulation:\n",
    "\n",
    "Bundles data (attributes) and methods that operate on the data within a class, restricting access to certain details.\n",
    "Focuses on \"how\" an object works.\n",
    "Achieved using access modifiers (public, protected, private)."
   ]
  },
  {
   "cell_type": "markdown",
   "metadata": {},
   "source": [
    "5. What are dunder methods in Python?\n",
    "\n",
    "-->> Dunder methods (short for \"double underscore\" methods) in Python are special methods that have double underscores before and after their names. They allow customization of built-in behavior, such as object creation, representation, and interaction with operators."
   ]
  },
  {
   "cell_type": "markdown",
   "metadata": {},
   "source": [
    "6.  Explain the concept of inheritance in OOP.\n",
    "\n",
    "-->>Inheritance in OOP allows a class (child or subclass) to inherit attributes and methods from another class (parent or superclass). It promotes code reuse and establishes a hierarchical relationship between classes. The child class can extend or modify the behavior of the parent class by adding or overriding methods and attributes."
   ]
  },
  {
   "cell_type": "markdown",
   "metadata": {},
   "source": [
    "7. What is polymorphism in OOP?\n",
    "\n",
    "-->>Polymorphism in OOP allows objects of different classes to be treated as instances of a common superclass. It enables the same method or operation to work with objects of different types, leading to flexible and reusable code.\n",
    "\n",
    "Polymorphism is typically achieved through method overriding (inherited classes provide their own implementation) and method overloading (same method name with different arguments)."
   ]
  },
  {
   "cell_type": "markdown",
   "metadata": {},
   "source": [
    "8. How is encapsulation achieved in Python?\n",
    "\n",
    "-->> ncapsulation in Python is achieved by bundling data (attributes) and methods that operate on that data within a class. It also involves restricting direct access to some of the object's attributes and methods using access modifiers:\n",
    "\n",
    "Public: Attributes and methods that are accessible from outside the class.\n",
    "\n",
    "Protected: Attributes and methods with a single underscore (_) prefix to indicate they should not be accessed directly.\n",
    "\n",
    "Private: Attributes and methods with a double underscore (__) prefix to prevent direct access, though they can still be accessed via name mangling"
   ]
  },
  {
   "cell_type": "markdown",
   "metadata": {},
   "source": [
    "9. What is a constructor in Python?\n",
    "\n",
    "-->> A constructor in Python is a special method __init__() that is automatically called when an instance of a class is created. It initializes the object's attributes and sets up any necessary state"
   ]
  },
  {
   "cell_type": "markdown",
   "metadata": {},
   "source": [
    "10.  What are class and static methods in Python?\n",
    "\n",
    "-->>Class Method: Defined with the @classmethod decorator, it takes cls (the class itself) as the first parameter. It can access and modify class-level attributes but not instance-level attributes.\n",
    "\n",
    "Static Method: Defined with the @staticmethod decorator, it does not take self or cls as parameters. It behaves like a regular function but is part of the class's namespace, and it does not access class or instance-specific data."
   ]
  },
  {
   "cell_type": "markdown",
   "metadata": {},
   "source": [
    "11. What is method overloading in Python?\n",
    "\n",
    "-->> Method overloading in Python refers to the ability to define multiple methods with the same name but different parameters. However, Python does not support traditional method overloading like other languages . Instead, it allows you to use default arguments or variable-length arguments (*args and **kwargs) to achieve similar behavior."
   ]
  },
  {
   "cell_type": "markdown",
   "metadata": {},
   "source": [
    "12. What is method overriding in OOP?\n",
    "\n",
    "-->> Method overriding in OOP occurs when a subclass provides its own implementation of a method that is already defined in its superclass. This allows the subclass to modify or extend the behavior of the inherited method"
   ]
  },
  {
   "cell_type": "markdown",
   "metadata": {},
   "source": [
    "13.  What is a property decorator in Python?\n",
    "\n",
    "-->> The @property decorator in Python is used to define a method as a property, allowing you to access it like an attribute without explicitly calling it as a method. It provides a way to encapsulate attribute access, enabling computed values while maintaining an attribute-like interface."
   ]
  },
  {
   "cell_type": "markdown",
   "metadata": {},
   "source": [
    "14.  Why is polymorphism important in OOP?\n",
    "\n",
    "-->> Polymorphism is important in OOP because it allows objects of different classes to be treated as instances of a common superclass, enabling:\n",
    "\n",
    "Flexibility: The same method or operation can work with objects of different types, making code more adaptable.\n",
    "\n",
    "Code Reusability: A single interface can be used to interact with different objects, reducing redundancy.\n",
    "\n",
    "Extensibility: New subclasses can be added without changing existing code, allowing for easier updates and maintenance."
   ]
  },
  {
   "cell_type": "markdown",
   "metadata": {},
   "source": [
    "15.  What is an abstract class in Python?\n",
    "\n",
    "-->>An abstract class in Python is a class that cannot be instantiated directly and serves as a blueprint for other classes. It can contain abstract methods (methods without implementation) that must be implemented by subclasses.\n",
    "\n",
    "To define an abstract class, you use the ABC (Abstract Base Class) module and the @abstractmethod decorator."
   ]
  },
  {
   "cell_type": "markdown",
   "metadata": {},
   "source": [
    "16. What are the advantages of OOP?\n",
    "\n",
    "-->>Encapsulation: Data and methods are bundled together, hiding implementation details and protecting object state.\n",
    "\n",
    "Inheritance: Allows code reuse and the creation of hierarchical relationships between classes.\n",
    "\n",
    "Polymorphism: Enables objects of different classes to be treated as instances of a common superclass, enhancing flexibility and extensibility.\n",
    "\n",
    "Abstraction: Simplifies complex systems by focusing on essential features while hiding unnecessary details."
   ]
  },
  {
   "cell_type": "markdown",
   "metadata": {},
   "source": [
    "17. What is the difference between a class variable and an instance variable?\n",
    "\n",
    "-->>Class Variable:\n",
    "\n",
    "Shared among all instances of a class.\n",
    "Defined within the class but outside any instance methods.\n",
    "Changes to it affect all instances.\n",
    "\n",
    "-->>Instance Variable:\n",
    "\n",
    "Unique to each instance of a class.\n",
    "Defined within methods (commonly in __init__) and prefixed with self.\n",
    "Changes to it affect only that specific instance."
   ]
  },
  {
   "cell_type": "markdown",
   "metadata": {},
   "source": [
    "18. What is multiple inheritance in Python?\n",
    "\n",
    "-->>Multiple inheritance in Python is a feature where a class can inherit from more than one parent class. This allows the child class to access attributes and methods from all its parent classes."
   ]
  },
  {
   "cell_type": "markdown",
   "metadata": {},
   "source": [
    "19.  Explain the purpose of ‘’__str__’ and ‘__repr__’ ‘ methods in Python.\n",
    "\n",
    "-->>The __str__ and __repr__ methods in Python define how objects are represented as strings.\n",
    "\n",
    "__str__: Provides a \"pretty\" or user-friendly string representation of the object, suitable for end-users. Used by str() and print().\n",
    "\n",
    "__repr__: Provides an unambiguous string representation for developers, often including details to recreate the object. Used by repr() and in interactive shells."
   ]
  },
  {
   "cell_type": "markdown",
   "metadata": {},
   "source": [
    "20. What is the significance of the ‘super()’ function in Python?\n",
    "\n",
    "-->>The super() function in Python is used to call a method from the parent (or superclass) in a child (or subclass). It is significant because it enables:\n",
    "\n",
    "Access to Parent Methods: Allows invoking overridden methods in the parent class.\n",
    "\n",
    "Simplified Initialization: Facilitates initialization of the parent class in complex inheritance hierarchies.\n",
    "\n",
    "Dynamic Resolution: Works seamlessly with multiple inheritance by following the method resolution order (MRO)."
   ]
  },
  {
   "cell_type": "markdown",
   "metadata": {},
   "source": [
    "21.  What is the significance of the __del__ method in Python?\n",
    "\n",
    "-->>he __del__ method in Python is a special method called a destructor. It is invoked when an object is about to be destroyed, typically when its reference count drops to zero. Its significance lies in allowing you to define cleanup actions, such as closing files or releasing resources, before the object is removed from memory."
   ]
  },
  {
   "cell_type": "markdown",
   "metadata": {},
   "source": [
    "22. What is the difference between @staticmethod and @classmethod in Python?\n",
    "\n",
    "-->> @staticmethod: Defines a method that does not take the cls or self parameter and does not depend on the class or instance. It behaves like a regular function but is part of the class's namespace.\n",
    "\n",
    "-->>@classmethod: Defines a method that takes cls (the class itself) as its first parameter. It can access and modify the class state and is called on the class rather than an instance."
   ]
  },
  {
   "cell_type": "markdown",
   "metadata": {},
   "source": [
    "23. How does polymorphism work in Python with inheritance?\n",
    "\n",
    "-->> Polymorphism in Python with inheritance allows objects of different classes to be treated as objects of a common superclass. It works by allowing a method in a parent class to be overridden in child classes, and the appropriate method is called based on the object's actual class type, not its reference type."
   ]
  },
  {
   "cell_type": "markdown",
   "metadata": {},
   "source": [
    "24. What is method chaining in Python OOP?\n",
    "\n",
    "-->> Method chaining in Python OOP is a programming technique where multiple methods are called on the same object in a single statement. Each method returns the object itself (usually self), allowing subsequent methods to be invoked seamlessly. This approach improves code readability and fluency."
   ]
  },
  {
   "cell_type": "markdown",
   "metadata": {},
   "source": [
    "25. What is the purpose of the __call__ method in Python?\n",
    "\n",
    "-->>The __call__ method in Python allows an instance of a class to be called as if it were a function. It enables objects to act like callable functions, providing a way to encapsulate functionality within an object."
   ]
  },
  {
   "cell_type": "markdown",
   "metadata": {},
   "source": [
    "# Practical Questions"
   ]
  },
  {
   "cell_type": "markdown",
   "metadata": {},
   "source": [
    "1. Create a parent class Animal with a method speak() that prints a generic message. Create a child class Dog \n",
    "that overrides the speak() method to print \"Bark!\"."
   ]
  },
  {
   "cell_type": "code",
   "execution_count": null,
   "metadata": {},
   "outputs": [],
   "source": [
    "\n",
    "class Animal:\n",
    "    def speak(self):\n",
    "        print(\"Some generic animal sound\")\n",
    "\n",
    "# Child class: Dog\n",
    "class Dog(Animal):\n",
    "    def speak(self):\n",
    "        print(\"Bark!\")\n",
    "\n",
    "\n",
    "animal = Animal()\n",
    "dog = Dog()\n",
    "\n",
    "animal.speak() \n",
    "dog.speak()     \n"
   ]
  },
  {
   "cell_type": "markdown",
   "metadata": {},
   "source": [
    "2. Write a program to create an abstract class Shape with a method area(). Derive classes Circle and Rectangle \n",
    "from it and implement the area() method in both."
   ]
  },
  {
   "cell_type": "code",
   "execution_count": null,
   "metadata": {},
   "outputs": [],
   "source": [
    "from abc import ABC, abstractmethod\n",
    "import math\n",
    "\n",
    "# Abstract base class: Shape\n",
    "class Shape(ABC):\n",
    "    @abstractmethod\n",
    "    def area(self):\n",
    "        pass\n",
    "\n",
    "# Derived class: Circle\n",
    "class Circle(Shape):\n",
    "    def __init__(self, radius):\n",
    "        self.radius = radius\n",
    "\n",
    "    def area(self):\n",
    "        return math.pi * (self.radius ** 2)\n",
    "\n",
    "# Derived class: Rectangle\n",
    "class Rectangle(Shape):\n",
    "    def __init__(self, length, width):\n",
    "        self.length = length\n",
    "        self.width = width\n",
    "\n",
    "    def area(self):\n",
    "        return self.length * self.width\n",
    "\n",
    "# Example usage\n",
    "circle = Circle(5)\n",
    "rectangle = Rectangle(4, 6)\n",
    "\n",
    "print(f\"Area of Circle: {circle.area():.2f}\")\n",
    "print(f\"Area of Rectangle: {rectangle.area()}\")\n"
   ]
  },
  {
   "cell_type": "markdown",
   "metadata": {},
   "source": [
    "3. Implement a multi-level inheritance scenario where a class Vehicle has an attribute type. Derive a class Car \n",
    "and further derive a class ElectricCar that adds a battery attribute."
   ]
  },
  {
   "cell_type": "code",
   "execution_count": null,
   "metadata": {},
   "outputs": [],
   "source": [
    "# Base class: Vehicle\n",
    "class Vehicle:\n",
    "    def __init__(self, vehicle_type):\n",
    "        self.vehicle_type = vehicle_type  # Attribute for the type of the vehicle\n",
    "\n",
    "    def display_type(self):\n",
    "        print(f\"Vehicle Type: {self.vehicle_type}\")  # Method to display the vehicle type\n",
    "\n",
    "# Derived class: Car\n",
    "class Car(Vehicle):\n",
    "    def __init__(self, vehicle_type, make, model):\n",
    "        super().__init__(vehicle_type)  # Call the constructor of Vehicle\n",
    "        self.make = make  # Additional attribute specific to cars\n",
    "        self.model = model  # Additional attribute specific to cars\n",
    "\n",
    "    def display_info(self):\n",
    "        print(f\"Car Make: {self.make}, Model: {self.model}\")\n",
    "        super().display_type()  # Call the display_type method from Vehicle\n",
    "\n",
    "# Further derived class: ElectricCar\n",
    "class ElectricCar(Car):\n",
    "    def __init__(self, vehicle_type, make, model, battery_capacity):\n",
    "        super().__init__(vehicle_type, make, model)  \n",
    "        self.battery_capacity = battery_capacity  \n",
    "\n",
    "    def display_battery_info(self):\n",
    "        print(f\"Battery Capacity: {self.battery_capacity} kWh\")\n",
    "\n",
    "# Example usage:\n",
    "electric_car = ElectricCar(\"Electric\", \"Tesla\", \"Model S\", 100)\n",
    "\n",
    "# Display car and vehicle details\n",
    "electric_car.display_info()\n",
    "\n",
    "# Display electric car battery information\n",
    "electric_car.display_battery_info()\n"
   ]
  },
  {
   "cell_type": "markdown",
   "metadata": {},
   "source": [
    "4. Implement a multi-level inheritance scenario where a class Vehicle has an attribute type. Derive a class Car \n",
    "and further derive a class ElectricCar that adds a battery attribute."
   ]
  },
  {
   "cell_type": "code",
   "execution_count": null,
   "metadata": {},
   "outputs": [],
   "source": [
    "class Vehicle:\n",
    "    def __init__(self, vehicle_type):\n",
    "        self.vehicle_type = vehicle_type\n",
    "\n",
    "    def display_type(self):\n",
    "        print(f\"Vehicle Type: {self.vehicle_type}\")\n",
    "\n",
    "class Car(Vehicle):\n",
    "    def __init__(self, vehicle_type, make, model):\n",
    "        super().__init__(vehicle_type)  \n",
    "        self.make = make\n",
    "        self.model = model\n",
    "\n",
    "    def display_info(self):\n",
    "        print(f\"Car Make: {self.make}, Model: {self.model}\")\n",
    "        super().display_type()  \n",
    "\n",
    "class ElectricCar(Car):\n",
    "    def __init__(self, vehicle_type, make, model, battery):\n",
    "        super().__init__(vehicle_type, make, model)  \n",
    "        self.battery = battery\n",
    "\n",
    "    def display_battery_info(self):\n",
    "        print(f\"Battery Capacity: {self.battery} kWh\")\n",
    "\n",
    "\n",
    "electric_car = ElectricCar(\"Electric\", \"Tesla\", \"Model S\", 100)\n",
    "electric_car.display_info()  \n",
    "electric_car.display_battery_info() \n"
   ]
  },
  {
   "cell_type": "markdown",
   "metadata": {},
   "source": [
    "5. Write a program to demonstrate encapsulation by creating a class BankAccount with private attributes \n",
    "balance and methods to deposit, withdraw, and check balance."
   ]
  },
  {
   "cell_type": "code",
   "execution_count": null,
   "metadata": {},
   "outputs": [],
   "source": [
    "class BankAccount:\n",
    "    def __init__(self, initial_balance):\n",
    "        self.__balance = initial_balance  \n",
    "\n",
    "   \n",
    "    def deposit(self, amount):\n",
    "        if amount > 0:\n",
    "            self.__balance += amount\n",
    "            print(f\"Deposited: ${amount}\")\n",
    "        else:\n",
    "            print(\"Deposit amount must be positive.\")\n",
    "\n",
    "    def withdraw(self, amount):\n",
    "        if 0 < amount <= self.__balance:\n",
    "            self.__balance -= amount\n",
    "            print(f\"Withdrawn: ${amount}\")\n",
    "        else:\n",
    "            print(\"Insufficient balance or invalid amount.\")\n",
    "\n",
    "    def check_balance(self):\n",
    "        return f\"Current balance: ${self.__balance}\"\n",
    "\n",
    "account = BankAccount(500)  \n",
    "print(account.check_balance()) \n",
    "\n",
    "account.deposit(200)  \n",
    "print(account.check_balance())  \n",
    "\n",
    "account.withdraw(100)  \n",
    "print(account.check_balance())  \n",
    "\n",
    "account.withdraw(700)  \n"
   ]
  },
  {
   "cell_type": "markdown",
   "metadata": {},
   "source": [
    "6.  Demonstrate runtime polymorphism using a method play() in a base class Instrument. Derive classes Guitar \n",
    "and Piano that implement their own version of play()."
   ]
  },
  {
   "cell_type": "code",
   "execution_count": null,
   "metadata": {},
   "outputs": [],
   "source": [
    "class Instrument:\n",
    "    def play(self):\n",
    "        raise NotImplementedError(\"Subclass must implement abstract method\")\n",
    "\n",
    "class Guitar(Instrument):\n",
    "    def play(self):\n",
    "        return \"Playing guitar sound!\"\n",
    "\n",
    "class Piano(Instrument):\n",
    "    def play(self):\n",
    "        return \"Playing piano sound!\"\n",
    "\n",
    "\n",
    "def play_instrument(instrument):\n",
    "    print(instrument.play())\n",
    "\n",
    "guitar = Guitar()\n",
    "piano = Piano()\n",
    "\n",
    "play_instrument(guitar)  \n",
    "play_instrument(piano)  \n"
   ]
  },
  {
   "cell_type": "markdown",
   "metadata": {},
   "source": [
    "7. Create a class MathOperations with a class method add_numbers() to add two numbers and a static \n",
    "method subtract_numbers() to subtract two numbers."
   ]
  },
  {
   "cell_type": "code",
   "execution_count": null,
   "metadata": {},
   "outputs": [],
   "source": [
    "class MathOperations:\n",
    "    @classmethod\n",
    "    def add_numbers(cls, num1, num2):\n",
    "        return num1 + num2\n",
    "\n",
    "    @staticmethod\n",
    "    def subtract_numbers(num1, num2):\n",
    "        return num1 - num2\n",
    "\n",
    "\n",
    "sum_result = MathOperations.add_numbers(10, 5)  # Class method usage\n",
    "diff_result = MathOperations.subtract_numbers(10, 5)  # Static method usage\n",
    "\n",
    "print(f\"Sum: {sum_result}\")\n",
    "print(f\"Difference: {diff_result}\")\n"
   ]
  },
  {
   "cell_type": "markdown",
   "metadata": {},
   "source": [
    "8.  Implement a class Person with a class method to count the total number of persons created."
   ]
  },
  {
   "cell_type": "code",
   "execution_count": null,
   "metadata": {},
   "outputs": [],
   "source": [
    "class Person:\n",
    "    total_persons = 0  \n",
    "\n",
    "    def __init__(self, name, age):\n",
    "        self.name = name\n",
    "        self.age = age\n",
    "        Person.total_persons += 1 \n",
    "\n",
    "    @classmethod\n",
    "    def get_total_persons(cls):\n",
    "        return cls.total_persons \n",
    "\n",
    "\n",
    "person1 = Person(\"John\", 30)\n",
    "person2 = Person(\"Alice\", 25)\n",
    "person3 = Person(\"Bob\", 40)\n",
    "\n",
    "print(f\"Total persons created: {Person.get_total_persons()}\")\n"
   ]
  },
  {
   "cell_type": "markdown",
   "metadata": {},
   "source": [
    "9. Write a class Fraction with attributes numerator and denominator. Override the str method to display the \n",
    "fraction as \"numerator/denominator\"."
   ]
  },
  {
   "cell_type": "code",
   "execution_count": null,
   "metadata": {},
   "outputs": [],
   "source": [
    "class Fraction:\n",
    "    def __init__(self, numerator, denominator):\n",
    "        self.numerator = numerator\n",
    "        self.denominator = denominator\n",
    "\n",
    "    \n",
    "    def __str__(self):\n",
    "        return f\"{self.numerator}/{self.denominator}\"\n",
    "\n",
    "\n",
    "fraction = Fraction(3, 4)\n",
    "print(f\"Fraction: {fraction}\")\n"
   ]
  },
  {
   "cell_type": "markdown",
   "metadata": {},
   "source": [
    "10. Demonstrate operator overloading by creating a class Vector and overriding the add method to add two \n",
    "vectors."
   ]
  },
  {
   "cell_type": "code",
   "execution_count": null,
   "metadata": {},
   "outputs": [],
   "source": [
    "class Vector:\n",
    "    def __init__(self, x, y):\n",
    "        self.x = x\n",
    "        self.y = y\n",
    "\n",
    "    \n",
    "    def __add__(self, other):\n",
    "        if isinstance(other, Vector):\n",
    "            return Vector(self.x + other.x, self.y + other.y)\n",
    "        return NotImplemented\n",
    "\n",
    "    def __repr__(self):\n",
    "        return f\"Vector({self.x}, {self.y})\"\n",
    "\n",
    "\n",
    "v1 = Vector(2, 3)\n",
    "v2 = Vector(4, 1)\n",
    "result = v1 + v2  \n",
    "\n",
    "print(f\"Result of addition: {result}\")\n"
   ]
  },
  {
   "cell_type": "markdown",
   "metadata": {},
   "source": [
    "11.  Create a class Person with attributes name and age. Add a method greet() that prints \"Hello, my name is \n",
    "{name} and I am {age} years old.\" "
   ]
  },
  {
   "cell_type": "code",
   "execution_count": null,
   "metadata": {},
   "outputs": [],
   "source": [
    "class Person:\n",
    "    def __init__(self, name, age):\n",
    "        self.name = name\n",
    "        self.age = age\n",
    "\n",
    "    def greet(self):\n",
    "        print(f\"Hello, my name is {self.name} and I am {self.age} years old.\")\n",
    "\n",
    "# Example usage\n",
    "person = Person(\"John\", 30)\n",
    "person.greet()\n"
   ]
  },
  {
   "cell_type": "markdown",
   "metadata": {},
   "source": [
    "12.  Implement a class Student with attributes name and grades. Create a method average_grade() to compute \n",
    "the average of the grades."
   ]
  },
  {
   "cell_type": "code",
   "execution_count": null,
   "metadata": {},
   "outputs": [],
   "source": [
    "class Student:\n",
    "    def __init__(self, name, grades):\n",
    "        self.name = name\n",
    "        self.grades = grades\n",
    "\n",
    "    def average_grade(self):\n",
    "        return sum(self.grades) / len(self.grades) if self.grades else 0\n",
    "\n",
    "# Example usage\n",
    "student = Student(\"Alice\", [90, 85, 88, 92, 87])\n",
    "print(f\"{student.name}'s average grade: {student.average_grade():.2f}\")\n"
   ]
  },
  {
   "cell_type": "markdown",
   "metadata": {},
   "source": [
    "13. Create a class Rectangle with methods set_dimensions() to set the dimensions and area() to calculate the \n",
    "area."
   ]
  },
  {
   "cell_type": "code",
   "execution_count": null,
   "metadata": {},
   "outputs": [],
   "source": [
    "class Rectangle:\n",
    "    def __init__(self):\n",
    "        self.length = 0\n",
    "        self.width = 0\n",
    "\n",
    "    def set_dimensions(self, length, width):\n",
    "        self.length = length\n",
    "        self.width = width\n",
    "\n",
    "    def area(self):\n",
    "        return self.length * self.width\n",
    "\n",
    "\n",
    "rect = Rectangle()\n",
    "rect.set_dimensions(5, 3)\n",
    "print(f\"Area of rectangle: {rect.area()}\")  # Output: Area of rectangle: 15\n"
   ]
  },
  {
   "cell_type": "markdown",
   "metadata": {},
   "source": [
    "14. Create a class Employee with a method calculate_salary() that computes the salary based on hours worked \n",
    "and hourly rate. Create a derived class Manager that adds a bonus to the salary."
   ]
  },
  {
   "cell_type": "code",
   "execution_count": null,
   "metadata": {},
   "outputs": [],
   "source": [
    "class Employee:\n",
    "    def __init__(self, name, hours_worked, hourly_rate):\n",
    "        self.name = name\n",
    "        self.hours_worked = hours_worked\n",
    "        self.hourly_rate = hourly_rate\n",
    "\n",
    "    def calculate_salary(self):\n",
    "        return self.hours_worked * self.hourly_rate\n",
    "\n",
    "class Manager(Employee):\n",
    "    def __init__(self, name, hours_worked, hourly_rate, bonus):\n",
    "        super().__init__(name, hours_worked, hourly_rate)  \n",
    "        self.bonus = bonus\n",
    "\n",
    "    def calculate_salary(self):\n",
    "        base_salary = super().calculate_salary()  \n",
    "        return base_salary + self.bonus\n",
    "\n",
    "\n",
    "employee = Employee(\"John Doe\", 40, 25)\n",
    "manager = Manager(\"Jane Smith\", 40, 30, 500)\n",
    "\n",
    "print(f\"Employee Salary: ${employee.calculate_salary()}\")\n",
    "print(f\"Manager Salary: ${manager.calculate_salary()}\")\n"
   ]
  },
  {
   "cell_type": "markdown",
   "metadata": {},
   "source": [
    "15.  Create a class Product with attributes name, price, and quantity. Implement a method total_price() that \n",
    "calculates the total price of the product."
   ]
  },
  {
   "cell_type": "code",
   "execution_count": null,
   "metadata": {},
   "outputs": [],
   "source": [
    "class Product:\n",
    "    def __init__(self, name, price, quantity):\n",
    "        self.name = name\n",
    "        self.price = price\n",
    "        self.quantity = quantity\n",
    "\n",
    "    def total_price(self):\n",
    "        return self.price * self.quantity\n",
    "\n",
    "product = Product(\"Laptop\", 1000, 3)\n",
    "print(f\"Total price of {product.name}: ${product.total_price()}\")\n"
   ]
  },
  {
   "cell_type": "markdown",
   "metadata": {},
   "source": [
    "16. Create a class Animal with an abstract method sound(). Create two derived classes Cow and Sheep that \n",
    "implement the sound() method. "
   ]
  },
  {
   "cell_type": "code",
   "execution_count": null,
   "metadata": {},
   "outputs": [],
   "source": [
    "from abc import ABC, abstractmethod\n",
    "\n",
    "class Animal(ABC):\n",
    "    @abstractmethod\n",
    "    def sound(self):\n",
    "        pass\n",
    "\n",
    "class Cow(Animal):\n",
    "    def sound(self):\n",
    "        return \"Moo\"\n",
    "\n",
    "class Sheep(Animal):\n",
    "    def sound(self):\n",
    "        return \"Baa\"\n",
    "\n",
    "\n",
    "cow = Cow()\n",
    "sheep = Sheep()\n",
    "\n",
    "print(f\"Cow sound: {cow.sound()}\")\n",
    "print(f\"Sheep sound: {sheep.sound()}\")\n"
   ]
  },
  {
   "cell_type": "markdown",
   "metadata": {},
   "source": [
    "17. Create a class Book with attributes title, author, and year_published. Add a method get_book_info() that \n",
    "returns a formatted string with the book's details."
   ]
  },
  {
   "cell_type": "code",
   "execution_count": null,
   "metadata": {},
   "outputs": [],
   "source": [
    "class Book:\n",
    "    def __init__(self, title, author, year_published):\n",
    "        self.title = title\n",
    "        self.author = author\n",
    "        self.year_published = year_published\n",
    "\n",
    "    def get_book_info(self):\n",
    "        return f\"Title: {self.title}\\nAuthor: {self.author}\\nYear Published: {self.year_published}\"\n",
    "\n",
    "\n",
    "book = Book(\"To Kill a Mockingbird\", \"Harper Lee\", 1960)\n",
    "print(book.get_book_info())\n"
   ]
  },
  {
   "cell_type": "markdown",
   "metadata": {},
   "source": [
    "18. Create a class House with attributes address and price. Create a derived class Mansion that adds an \n",
    "attribute number_of_rooms. "
   ]
  },
  {
   "cell_type": "code",
   "execution_count": null,
   "metadata": {},
   "outputs": [],
   "source": [
    "class House:\n",
    "    def __init__(self, address, price):\n",
    "        self.address = address\n",
    "        self.price = price\n",
    "\n",
    "    def display_info(self):\n",
    "        print(f\"Address: {self.address}, Price: ${self.price}\")\n",
    "\n",
    "class Mansion(House):\n",
    "    def __init__(self, address, price, number_of_rooms):\n",
    "        super().__init__(address, price)  \n",
    "        self.number_of_rooms = number_of_rooms\n",
    "\n",
    "    def display_info(self):\n",
    "        super().display_info()  \n",
    "        print(f\"Number of Rooms: {self.number_of_rooms}\")\n",
    "\n",
    "\n",
    "house = House(\"123 Elm Street\", 250000)\n",
    "house.display_info()\n",
    "\n",
    "mansion = Mansion(\"456 Oak Avenue\", 5000000, 10)\n",
    "mansion.display_info()\n"
   ]
  }
 ],
 "metadata": {
  "kernelspec": {
   "display_name": "base",
   "language": "python",
   "name": "python3"
  },
  "language_info": {
   "name": "python",
   "version": "3.12.7"
  }
 },
 "nbformat": 4,
 "nbformat_minor": 2
}
