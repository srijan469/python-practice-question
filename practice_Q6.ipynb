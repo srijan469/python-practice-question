{
 "cells": [
  {
   "cell_type": "markdown",
   "metadata": {},
   "source": [
    "# Data Toolkit"
   ]
  },
  {
   "cell_type": "markdown",
   "metadata": {},
   "source": [
    "1. What is NumPy, and why is it widely used in Python ?\n",
    "\n",
    "->>   NumPy (Numerical Python) is a powerful open-source library in Python used for numerical computing. It provides support for large, multi-dimensional arrays and matrices, along with a vast collection of mathematical functions to operate on these arrays efficiently.\n",
    "\n",
    "-->>NumPy arrays (ndarrays) are more efficient than Python lists because they store data in contiguous memory locations, reducing overhead and improving performance."
   ]
  },
  {
   "cell_type": "markdown",
   "metadata": {},
   "source": [
    "2.  How does broadcasting work in NumPy?\n",
    "\n",
    "-->>Broadcasting in NumPy allows operations on arrays of different shapes without explicitly replicating data, making computations more efficient in terms of speed and memory.\n",
    "\n",
    "    1. Align Shapes from Right\n",
    "    2. Dimension Match or Singleton Expansion"
   ]
  },
  {
   "cell_type": "markdown",
   "metadata": {},
   "source": [
    "3. What is a Pandas DataFrame?\n",
    "\n",
    "->>A DataFrame in Pandas is a two-dimensional, tabular data structure similar to a table in a relational database, an Excel spreadsheet, or a SQL table. It consists of rows and columns, where:\n",
    "\n",
    "Rows represent individual records (indexed).\n",
    "Columns represent different attributes (labeled with column names)."
   ]
  },
  {
   "cell_type": "markdown",
   "metadata": {},
   "source": [
    "4.  Explain the use of the groupby() method in Pandas?\n",
    "\n",
    "-->>  The groupby() method in Pandas is used for grouping data based on one or more columns and applying aggregate functions like sum(), mean(), count(), etc. It is similar to SQL's GROUP BY operation."
   ]
  },
  {
   "cell_type": "markdown",
   "metadata": {},
   "source": [
    "5. Why is Seaborn preferred for statistical visualizations?\n",
    "\n",
    "-->>  Seaborn is a Python data visualization library built on top of Matplotlib. It is preferred for statistical visualizations because it provides high-level, attractive, and informative plots with minimal code."
   ]
  },
  {
   "cell_type": "markdown",
   "metadata": {},
   "source": [
    "6. What are the differences between NumPy arrays and Python lists?\n",
    "\n",
    "-->>  1. NumPy is significantly faster than lists for large computations.\n",
    "      2. NumPy uses less memory due to compact data storage.\n",
    "      3. NumPy supports multi-dimensional arrays directly, while Python lists require manual handling.\n",
    "      4. Use NumPy Arrays for scientific computing, machine learning, and large-scale numerical operations.\n",
    "      Use Python Lists for general-purpose programming and small datasets where performance is not critical."
   ]
  },
  {
   "cell_type": "markdown",
   "metadata": {},
   "source": [
    "7.  What is a heatmap, and when should it be used?\n",
    "\n",
    "--> A heatmap is a graphical representation of data where individual values in a matrix (or table) are color-coded to indicate different levels of magnitude. It is used to visualize patterns, correlations, or distributions in large datasets.\n",
    "\n",
    "In machine learning, heatmaps help visualize feature correlations to identify redundant variables"
   ]
  },
  {
   "cell_type": "markdown",
   "metadata": {},
   "source": [
    "8.  What does the term “vectorized operation” mean in NumPy?\n",
    "\n",
    "-->>  A vectorized operation in NumPy refers to performing operations on entire arrays (vectors) at once, instead of using explicit loops. This leads to faster execution and less code, as NumPy executes operations in optimized C code under the hood.\n",
    "\n"
   ]
  },
  {
   "cell_type": "markdown",
   "metadata": {},
   "source": [
    "9. How does Matplotlib differ from Plotly?\n",
    "\n",
    "-->> Use Matplotlib when you need static, highly customizable plots for reports.\n",
    "\n",
    "Use Plotly when you need interactive, web-friendly visualizations."
   ]
  },
  {
   "cell_type": "markdown",
   "metadata": {},
   "source": [
    "10.  What is the significance of hierarchical indexing in Pandas?\n",
    "\n",
    "-->> Hierarchical indexing (also called MultiIndexing) in Pandas allows multiple levels of row or column indexes in a DataFrame.\n",
    "It helps in handling complex datasets with multiple dimensions in a structured way."
   ]
  },
  {
   "cell_type": "markdown",
   "metadata": {},
   "source": [
    "11. What is the role of Seaborn’s pairplot() function?\n",
    "\n",
    "-->> The pairplot() function in Seaborn creates scatter plots for pairwise relationships between numerical variables in a dataset.\n",
    "It is useful for exploratory data analysis (EDA) to identify correlations, trends, and distributions."
   ]
  },
  {
   "cell_type": "markdown",
   "metadata": {},
   "source": [
    "12. What is the purpose of the describe() function in Pandas?\n",
    "\n",
    "-->> The describe() function in Pandas provides summary statistics for numerical (or categorical) columns in a DataFrame.\n",
    "It is commonly used in Exploratory Data Analysis (EDA) to get a quick overview of the dataset. \n",
    "\n",
    "Provides summary statistics (count, mean, std, min, max, etc.)"
   ]
  },
  {
   "cell_type": "markdown",
   "metadata": {},
   "source": [
    "13. Why is handling missing data important in Pandas?\n",
    "\n",
    "-->> Missing data (null or NaN values) occurs when a dataset has incomplete records. This can happen due to data entry errors, lost information, or system failures.\n",
    "\n",
    " Prevents errors in analysis – Missing values can cause incorrect statistical calculations."
   ]
  },
  {
   "cell_type": "markdown",
   "metadata": {},
   "source": [
    "14. What are the benefits of using Plotly for data visualization?\n",
    "\n",
    "--> ✅ Interactive – Zoom, pan, and hover for insights.\n",
    "  ✅  Easy to Use – Works well with pandas & NumPy.\n",
    "✅ Rich Visuals – Supports line, bar, scatter, heatmaps, 3D plots, etc.\n",
    "✅ Highly Customizable – Modify colors, labels, layouts easily.\n",
    "✅ Dashboard Integration – Works with Dash for web-based analytics.\n",
    "✅ Jupyter Notebook Support – Ideal for data science workflows.\n",
    "✅ Multi-Language Support – Works with Python, R, and JavaScript.\n",
    "✅ Open-Source & Free – With cloud and enterprise options available.\n"
   ]
  },
  {
   "cell_type": "markdown",
   "metadata": {},
   "source": [
    "15. How does NumPy handle multidimensional arrays?\n",
    "\n",
    "-->> NumPy handles multidimensional arrays using the ndarray object, which supports efficient storage and operations on large datasets.\n",
    "\n",
    "✅ Efficient Storage – Stores elements in a contiguous memory block for fast access.\n",
    "✅ Flexible Indexing – Supports slicing, masking, and advanced indexing.\n",
    "✅ Multi-Dimensional Support – Handles 1D, 2D (matrices), and nD arrays seamlessly."
   ]
  },
  {
   "cell_type": "markdown",
   "metadata": {},
   "source": [
    "16. What is the role of Bokeh in data visualization?\n",
    "\n",
    "-->>Bokeh is a Python library for creating interactive and web-friendly visualizations.\n",
    "\n",
    "✅ Interactive Plots – Zoom, pan, and hover for insights.\n",
    "✅ Web-Based – Generates HTML/JavaScript visualizations for dashboards.\n",
    "✅ Handles Large Datasets – Optimized for big data with streaming support.\n",
    "✅ High Customization – Flexible styling, themes, and tooltips."
   ]
  },
  {
   "cell_type": "markdown",
   "metadata": {},
   "source": [
    "17. Explain the difference between apply() and map() in Pandas?\n",
    "\n",
    "-->> Use apply() when working with DataFrames or Series with complex functions. Works on rows/columns (Series).Series or DataFrame (flexible).\n",
    "\n",
    "Use map() when applying functions only to a Series for element-wise operations.Works element-wise on a Series. Series (same shape as input)"
   ]
  },
  {
   "cell_type": "markdown",
   "metadata": {},
   "source": [
    "18. What are some advanced features of NumPy?\n",
    "\n",
    "-->>✅ Multidimensional Arrays (ndarray) – Efficient storage & fast computation.\n",
    "✅ Broadcasting – Perform operations on arrays of different shapes without explicit looping.\n",
    "✅ Linear Algebra (numpy.linalg) – Supports matrix operations, eigenvalues, SVD, etc.\n",
    "✅ Random Number Generation (numpy.random) – Generates random numbers from various distributions."
   ]
  },
  {
   "cell_type": "markdown",
   "metadata": {},
   "source": [
    "19. How does Pandas simplify time series analysis?\n",
    "\n",
    "-->> ✅ Datetime Handling – pd.to_datetime() converts strings to datetime objects.\n",
    "✅ Date Indexing – DatetimeIndex allows time-based indexing & slicing.\n",
    "✅ Resampling – resample() aggregates data to different time intervals.\n",
    "✅ Shifting & Lagging – shift() helps analyze trends over time.\n",
    "✅ Rolling Window Operations – rolling().mean() computes moving averages.\n",
    "✅ Time Zone Support – tz_localize() & tz_convert() manage time zones.\n",
    "✅ Period & Frequency Handling – pd.period_range() creates periodic data.\n",
    "✅ Built-in Plotting – df.plot() easily visualizes trends."
   ]
  },
  {
   "cell_type": "markdown",
   "metadata": {},
   "source": [
    "20. What is the role of a pivot table in Pandas?\n",
    "\n",
    "-->> A pivot table in Pandas is used for summarizing, aggregating, and reshaping data efficiently.\n",
    "\n",
    "✅ Transforms DataFrames – Converts long-format data into a structured summary.\n",
    "✅ Aggregation Functions – Uses sum(), mean(), count(), etc.\n",
    "✅ Multi-Indexing – Supports multiple rows and column levels.\n",
    "✅ Handles Missing Data – Fills or ignores NaN values."
   ]
  },
  {
   "cell_type": "markdown",
   "metadata": {},
   "source": [
    "21. Why is NumPy’s array slicing faster than Python’s list slicing?\n",
    "\n",
    "-->> NumPy arrays are stored in contiguous memory blocks, meaning that elements are laid out sequentially in RAM. This allows for fast retrieval and processing due to fewer cache misses.\n",
    "Python lists, however, are heterogeneous (can store different data types), and each element is a reference (pointer) to an object stored elsewhere in memory.\n",
    "\n"
   ]
  },
  {
   "cell_type": "markdown",
   "metadata": {},
   "source": [
    "22. What are some common use cases for Seaborn?"
   ]
  },
  {
   "cell_type": "markdown",
   "metadata": {},
   "source": [
    "#  Practical"
   ]
  },
  {
   "cell_type": "markdown",
   "metadata": {},
   "source": [
    "1.  How do you create a 2D NumPy array and calculate the sum of each row?"
   ]
  },
  {
   "cell_type": "markdown",
   "metadata": {},
   "source": [
    "2. Write a Pandas script to find the mean of a specific column in a DataFrame?\n"
   ]
  },
  {
   "cell_type": "markdown",
   "metadata": {},
   "source": [
    "3.  Create a scatter plot using Matplotlib."
   ]
  },
  {
   "cell_type": "markdown",
   "metadata": {},
   "source": [
    "4.  How do you calculate the correlation matrix using Seaborn and visualize it with a heatmap ?"
   ]
  },
  {
   "cell_type": "markdown",
   "metadata": {},
   "source": [
    "5. Generate a bar plot using Plotly."
   ]
  },
  {
   "cell_type": "markdown",
   "metadata": {},
   "source": [
    "6.  Create a DataFrame and add a new column based on an existing column."
   ]
  },
  {
   "cell_type": "markdown",
   "metadata": {},
   "source": [
    "7.  Write a program to perform element-wise multiplication of two NumPy arrays."
   ]
  },
  {
   "cell_type": "markdown",
   "metadata": {},
   "source": [
    "8.  Create a line plot with multiple lines using Matplotlib."
   ]
  },
  {
   "cell_type": "markdown",
   "metadata": {},
   "source": [
    "9. Generate a Pandas DataFrame and filter rows where a column value is greater than a threshold."
   ]
  },
  {
   "cell_type": "markdown",
   "metadata": {},
   "source": [
    "10. Create a histogram using Seaborn to visualize a distribution."
   ]
  },
  {
   "cell_type": "markdown",
   "metadata": {},
   "source": [
    "11.  Perform matrix multiplication using NumPy."
   ]
  },
  {
   "cell_type": "markdown",
   "metadata": {},
   "source": [
    "12.  Use Pandas to load a CSV file and display its first 5 rows."
   ]
  },
  {
   "cell_type": "markdown",
   "metadata": {},
   "source": [
    "13.  Create a 3D scatter plot using Plotly."
   ]
  }
 ],
 "metadata": {
  "kernelspec": {
   "display_name": "base",
   "language": "python",
   "name": "python3"
  },
  "language_info": {
   "name": "python",
   "version": "3.12.7"
  }
 },
 "nbformat": 4,
 "nbformat_minor": 2
}
