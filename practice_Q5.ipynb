{
 "cells": [
  {
   "cell_type": "markdown",
   "metadata": {},
   "source": [
    "# Files, exceptional handling, logging and memory management Questions"
   ]
  },
  {
   "cell_type": "markdown",
   "metadata": {},
   "source": [
    "1.  What is the difference between interpreted and compiled languages?\n",
    "\n",
    "-->>\n",
    "\n",
    "The key difference between interpreted and compiled languages lies in how they execute code:\n",
    "\n",
    "- Interpreted languages: Code is executed line by line by an interpreter, translating it into machine code at runtime (e.g., Python, JavaScript). This allows for flexibility but may be slower.\n",
    "\n",
    "- Compiled languages: Code is translated into machine code by a compiler before execution, producing an executable file (e.g., C, C++). This results in faster execution but requires compilation before running."
   ]
  },
  {
   "cell_type": "markdown",
   "metadata": {},
   "source": [
    "2. What is exception handling in Python?\n",
    "\n",
    "-->>Exception handling in Python is a mechanism to manage runtime errors (exceptions) in a program. It allows you to respond to errors gracefully using `try`, `except`, `else`, and `finally` blocks, preventing the program from crashing."
   ]
  },
  {
   "cell_type": "markdown",
   "metadata": {},
   "source": [
    "3. What is the purpose of the finally block in exception handling?\n",
    "\n",
    "-->>The `finally` block in exception handling is used to execute code that must run regardless of whether an exception occurred or not, such as cleanup operations (e.g., closing files or releasing resources)."
   ]
  },
  {
   "cell_type": "markdown",
   "metadata": {},
   "source": [
    "4.  What is logging in Python?\n",
    "\n",
    "-->>Logging in Python is a way to track events during program execution, providing a record of activities, errors, and other information for debugging or monitoring. It uses the `logging` module to create logs at different levels like DEBUG, INFO, WARNING, ERROR, and CRITICAL."
   ]
  },
  {
   "cell_type": "markdown",
   "metadata": {},
   "source": [
    "5.  What is the significance of the __del__ method in Python?\n",
    "\n",
    "-->The `__del__` method in Python is a special method called a destructor. It is invoked when an object is about to be destroyed, allowing you to define cleanup actions (e.g., releasing resources). However, its use is limited, as Python's garbage collector handles most cleanup tasks automatically."
   ]
  },
  {
   "cell_type": "markdown",
   "metadata": {},
   "source": [
    "6. What is the difference between import and from ... import in Python?\n",
    "\n",
    "-->>- **`import`**: Imports the entire module, requiring you to use the module name to access its members (e.g., `math.sqrt`).\n",
    "\n",
    "- **`from ... import`**: Imports specific members from a module, allowing direct access without the module name (e.g., `sqrt` from `math`)."
   ]
  },
  {
   "cell_type": "markdown",
   "metadata": {},
   "source": [
    "7. How can you handle multiple exceptions in Python?\n",
    "\n",
    "-->>In Python, you can handle multiple exceptions using:\n",
    "  1.Separate except blocks: Handle each exception type individually.\n",
    "  2.Tuple in a single except block: Handle multiple exception types together."
   ]
  },
  {
   "cell_type": "markdown",
   "metadata": {},
   "source": [
    "8.  What is the purpose of the with statement when handling files in Python?\n",
    "\n",
    "-->>The `with` statement in Python is used for managing resources, such as file handling. It ensures the file is properly opened and automatically closed after the block, even if an exception occurs, simplifying resource management and preventing resource leaks."
   ]
  },
  {
   "cell_type": "markdown",
   "metadata": {},
   "source": [
    "9. What is the difference between multithreading and multiprocessing?\n",
    "\n",
    "-->>- **Multithreading**: Involves running multiple threads within the same process, sharing memory and resources. It's suitable for I/O-bound tasks but may not fully utilize multiple CPU cores due to the Global Interpreter Lock (GIL) in Python.\n",
    "\n",
    "- **Multiprocessing**: Involves running multiple processes, each with its own memory space, bypassing the GIL. It's ideal for CPU-bound tasks and can leverage multiple CPU cores for parallelism."
   ]
  },
  {
   "cell_type": "markdown",
   "metadata": {},
   "source": [
    "10. What are the advantages of using logging in a program?\n",
    "\n",
    "-->>The advantages of using logging in a program include:\n",
    "\n",
    "1. **Error tracking**: Helps capture and track errors, making debugging easier.\n",
    "2. **Debugging support**: Provides detailed information about program execution for troubleshooting.\n",
    "3. **Flexibility**: Allows different levels of logging (e.g., DEBUG, INFO, ERROR) for various use cases.\n",
    "4. **Persistent records**: Logs can be saved to files for future analysis and auditing.\n",
    "5. **Performance monitoring**: Helps in tracking application performance over time."
   ]
  },
  {
   "cell_type": "markdown",
   "metadata": {},
   "source": [
    "11.  What is memory management in Python?\n",
    "\n",
    "-->Memory management in Python involves the efficient allocation, tracking, and deallocation of memory used by objects. Python uses automatic garbage collection through reference counting and a cyclic garbage collector to free unused memory, ensuring that resources are properly managed without manual intervention."
   ]
  },
  {
   "cell_type": "markdown",
   "metadata": {},
   "source": [
    "12.  What are the basic steps involved in exception handling in Python?\n",
    "\n",
    "-->The basic steps in exception handling in Python are:\n",
    "\n",
    "1. **Try block**: Write the code that might raise an exception inside a `try` block.\n",
    "2. **Except block**: Catch and handle specific exceptions using the `except` block.\n",
    "3. **Else block** (optional): Execute code if no exception occurred.\n",
    "4. **Finally block** (optional): Execute code that must run regardless of an exception (e.g., cleanup)."
   ]
  },
  {
   "cell_type": "markdown",
   "metadata": {},
   "source": [
    "13.  Why is memory management important in Python?\n",
    "\n",
    "-->>Memory management is important in Python to ensure efficient use of system resources, prevent memory leaks, and improve performance. Proper management helps in handling large datasets and optimizing the program by freeing unused memory through garbage collection."
   ]
  },
  {
   "cell_type": "markdown",
   "metadata": {},
   "source": [
    "14. What is the role of try and except in exception handling?\n",
    "\n",
    "-->>In exception handling, the **`try`** block contains code that may raise an exception, while the **`except`** block catches and handles specific exceptions, preventing the program from crashing and allowing for graceful error handling."
   ]
  },
  {
   "cell_type": "markdown",
   "metadata": {},
   "source": [
    "15. How does Python's garbage collection system work?\n",
    "\n",
    "-->>Python's garbage collection system works through **reference counting** and a **cyclic garbage collector**. Reference counting tracks the number of references to an object, and when it drops to zero, the object is automatically deallocated. The cyclic garbage collector detects and cleans up circular references that reference counting alone can't handle."
   ]
  },
  {
   "cell_type": "markdown",
   "metadata": {},
   "source": [
    "16.  What is the purpose of the else block in exception handling?\n",
    "\n",
    "-->>The **`else`** block in exception handling is executed if no exception is raised in the `try` block. It allows you to run code that should only execute when the `try` block completes successfully, without errors."
   ]
  },
  {
   "cell_type": "markdown",
   "metadata": {},
   "source": [
    "17.  What are the common logging levels in Python?\n",
    "\n",
    "-->The common logging levels in Python are:\n",
    "\n",
    "1. **DEBUG**: Detailed information, typically useful for diagnosing problems.\n",
    "2. **INFO**: General information about program execution.\n",
    "3. **WARNING**: Indications of potential issues or unexpected behavior.\n",
    "4. **ERROR**: Errors that prevent a function from working properly.\n",
    "5. **CRITICAL**: Severe errors that cause the program to crash."
   ]
  },
  {
   "cell_type": "markdown",
   "metadata": {},
   "source": [
    "18. What is the difference between os.fork() and multiprocessing in Python?\n",
    "\n",
    "-->>- **`os.fork()`**: Creates a child process by duplicating the current process. It is available only in Unix-based systems and shares the same memory space between parent and child.\n",
    "\n",
    "- **`multiprocessing`**: Creates separate processes with their own memory space, suitable for both Unix and Windows. It allows parallel execution and is better for CPU-bound tasks."
   ]
  },
  {
   "cell_type": "markdown",
   "metadata": {},
   "source": [
    "19. What is the importance of closing a file in Python?\n",
    "\n",
    "-->>Closing a file in Python is important to free up system resources, ensure data is properly written to the file, and prevent memory leaks or file corruption. It can be done manually with `file.close()` or automatically using the `with` statement."
   ]
  },
  {
   "cell_type": "markdown",
   "metadata": {},
   "source": [
    "20. What is the difference between file.read() and file.readline() in Python?\n",
    "\n",
    "-->- **`file.read()`**: Reads the entire content of the file as a single string.\n",
    "- **`file.readline()`**: Reads one line at a time from the file. Each call returns the next line until the end of the file is reached."
   ]
  },
  {
   "cell_type": "markdown",
   "metadata": {},
   "source": [
    "21. What is the logging module in Python used for?\n",
    "\n",
    "-->The **logging module** in Python is used to log messages from programs, providing a way to track events, errors, and debugging information. It allows for different logging levels (e.g., DEBUG, INFO, ERROR) and the ability to save logs to files or display them on the console."
   ]
  },
  {
   "cell_type": "markdown",
   "metadata": {},
   "source": [
    "22.  What is the os module in Python used for in file handling?\n",
    "\n",
    "-->The **`os` module** in Python is used for interacting with the operating system, including file handling tasks such as creating, deleting, and renaming files and directories, checking file existence, and retrieving file properties (e.g., size, modification time)."
   ]
  },
  {
   "cell_type": "markdown",
   "metadata": {},
   "source": [
    "23.  What are the challenges associated with memory management in Python?\n",
    "\n",
    "-->>Challenges associated with memory management in Python include:\n",
    "\n",
    "1. **Garbage collection overhead**: Python's automatic garbage collection can introduce performance overhead.\n",
    "2. **Circular references**: Objects referring to each other can prevent memory from being freed, even when no longer in use.\n",
    "3. **Memory leaks**: Unused objects not properly cleaned up may cause memory leaks.\n",
    "4. **Fragmentation**: Over time, memory allocation and deallocation may lead to inefficient memory use."
   ]
  },
  {
   "cell_type": "markdown",
   "metadata": {},
   "source": [
    "24. How do you raise an exception manually in Python?\n",
    "\n",
    "-->>To raise an exception manually in Python, use the raise keyword followed by the exception type.\n",
    "For example: \n",
    "            raise ValueError(\"An error occurred\")\n"
   ]
  },
  {
   "cell_type": "markdown",
   "metadata": {},
   "source": [
    "25. Why is it important to use multithreading in certain applications?\n",
    "\n",
    "-->> Multithreading is important in certain applications to improve performance by allowing concurrent execution of tasks, especially for I/O-bound operations (e.g., file reading, network requests). It helps make better use of system resources and improves responsiveness without blocking the main thread."
   ]
  },
  {
   "cell_type": "markdown",
   "metadata": {},
   "source": [
    "# Practical Questions"
   ]
  },
  {
   "cell_type": "markdown",
   "metadata": {},
   "source": [
    "1.How can you open a file for writing in Python and write a string to it?"
   ]
  },
  {
   "cell_type": "code",
   "execution_count": null,
   "metadata": {},
   "outputs": [],
   "source": [
    "with open('file.txt', 'w') as file:\n",
    "    file.write(\"Hello, World!\")\n"
   ]
  },
  {
   "cell_type": "markdown",
   "metadata": {},
   "source": [
    "2. Write a Python program to read the contents of a file and print each line"
   ]
  },
  {
   "cell_type": "code",
   "execution_count": null,
   "metadata": {},
   "outputs": [],
   "source": [
    "# Open the file for reading\n",
    "with open('file.txt', 'r') as file:\n",
    "    # Read and print each line\n",
    "    for line in file:\n",
    "        print(line, end='')\n"
   ]
  },
  {
   "cell_type": "markdown",
   "metadata": {},
   "source": [
    "3. How would you handle a case where the file doesn't exist while trying to open it for reading.\n"
   ]
  },
  {
   "cell_type": "code",
   "execution_count": null,
   "metadata": {},
   "outputs": [],
   "source": [
    "try:\n",
    "    with open('file.txt', 'r') as file:\n",
    "        # Read and print each line\n",
    "        for line in file:\n",
    "            print(line, end='')\n",
    "except FileNotFoundError:\n",
    "    print(\"The file does not exist.\")\n"
   ]
  },
  {
   "cell_type": "markdown",
   "metadata": {},
   "source": [
    "4.Write a Python script that reads from one file and writes its content to another file."
   ]
  },
  {
   "cell_type": "code",
   "execution_count": null,
   "metadata": {},
   "outputs": [],
   "source": [
    "# Open the source file for reading\n",
    "with open('source.txt', 'r') as source_file:\n",
    "    # Open the destination file for writing\n",
    "    with open('destination.txt', 'w') as dest_file:\n",
    "        # Read and write content\n",
    "        for line in source_file:\n",
    "            dest_file.write(line)\n"
   ]
  },
  {
   "cell_type": "markdown",
   "metadata": {},
   "source": [
    "5. How would you catch and handle division by zero error in Python."
   ]
  },
  {
   "cell_type": "code",
   "execution_count": null,
   "metadata": {},
   "outputs": [],
   "source": [
    "try:\n",
    "    result = 10 / 0\n",
    "except ZeroDivisionError:\n",
    "    print(\"Error: Division by zero is not allowed.\")\n"
   ]
  },
  {
   "cell_type": "markdown",
   "metadata": {},
   "source": [
    "6. Write a Python program that logs an error message to a log file when a division by zero exception occurs"
   ]
  },
  {
   "cell_type": "code",
   "execution_count": null,
   "metadata": {},
   "outputs": [],
   "source": [
    "import logging\n",
    "\n",
    "# Set up logging to write to a file\n",
    "logging.basicConfig(filename='error_log.txt', level=logging.ERROR)\n",
    "\n",
    "try:\n",
    "    result = 10 / 0\n",
    "except ZeroDivisionError as e:\n",
    "    logging.error(\"Error: Division by zero occurred. Exception: %s\", e)\n"
   ]
  },
  {
   "cell_type": "markdown",
   "metadata": {},
   "source": [
    "7. How do you log information at different levels (INFO, ERROR, WARNING) in Python using the logging module?\n"
   ]
  },
  {
   "cell_type": "code",
   "execution_count": null,
   "metadata": {},
   "outputs": [],
   "source": [
    "import logging\n",
    "\n",
    "# Set up logging configuration\n",
    "logging.basicConfig(level=logging.DEBUG, filename='app.log', filemode='w')\n",
    "\n",
    "# Log at different levels\n",
    "logging.debug(\"This is a debug message.\")\n",
    "logging.info(\"This is an info message.\")\n",
    "logging.warning(\"This is a warning message.\")\n",
    "logging.error(\"This is an error message.\")\n",
    "logging.critical(\"This is a critical message.\")\n"
   ]
  },
  {
   "cell_type": "markdown",
   "metadata": {},
   "source": [
    "8. Write a program to handle a file opening error using exception handling."
   ]
  },
  {
   "cell_type": "code",
   "execution_count": null,
   "metadata": {},
   "outputs": [],
   "source": [
    "try:\n",
    "    # Try to open a file that may not exist\n",
    "    with open('nonexistent_file.txt', 'r') as file:\n",
    "        content = file.read()\n",
    "        print(content)\n",
    "except FileNotFoundError:\n",
    "    print(\"Error: The file does not exist.\")\n",
    "except Exception as e:\n",
    "    print(f\"An unexpected error occurred: {e}\")\n"
   ]
  },
  {
   "cell_type": "markdown",
   "metadata": {},
   "source": [
    "9.  How can you read a file line by line and store its content in a list in Python?"
   ]
  },
  {
   "cell_type": "code",
   "execution_count": null,
   "metadata": {},
   "outputs": [],
   "source": [
    "#Using readlines():\n",
    "with open('file.txt', 'r') as file:\n",
    "    lines = file.readlines()\n",
    "\n",
    "print(lines)  # List of lines\n",
    "\n",
    "#Using a loop\n",
    "lines = []\n",
    "with open('file.txt', 'r') as file:\n",
    "    for line in file:\n",
    "        lines.append(line)\n",
    "\n",
    "print(lines)  # List of lines\n"
   ]
  },
  {
   "cell_type": "markdown",
   "metadata": {},
   "source": [
    "10.  How can you append data to an existing file in Python."
   ]
  },
  {
   "cell_type": "code",
   "execution_count": null,
   "metadata": {},
   "outputs": [],
   "source": [
    "with open('file.txt', 'a') as file:\n",
    "    file.write(\"New data to append\\n\")\n"
   ]
  },
  {
   "cell_type": "markdown",
   "metadata": {},
   "source": [
    "11. Write a Python program that uses a try-except block to handle an error when attempting to access a \n",
    "dictionary key that doesn't exist."
   ]
  },
  {
   "cell_type": "code",
   "execution_count": null,
   "metadata": {},
   "outputs": [],
   "source": [
    "my_dict = {'name': 'Alice', 'age': 25}\n",
    "\n",
    "try:\n",
    "    # Attempt to access a key that doesn't exist\n",
    "    print(my_dict['address'])\n",
    "except KeyError:\n",
    "    print(\"Error: The key does not exist in the dictionary.\")\n"
   ]
  },
  {
   "cell_type": "markdown",
   "metadata": {},
   "source": [
    "12. Write a program that demonstrates using multiple except blocks to handle different types of exceptions."
   ]
  },
  {
   "cell_type": "code",
   "execution_count": null,
   "metadata": {},
   "outputs": [],
   "source": [
    "try:\n",
    "    # Example operations that may raise exceptions\n",
    "    x = int(input(\"Enter a number: \"))\n",
    "    result = 10 / x\n",
    "    my_dict = {'a': 1}\n",
    "    print(my_dict['b'])  # This will raise a KeyError\n",
    "except ZeroDivisionError:\n",
    "    print(\"Error: Division by zero is not allowed.\")\n",
    "except ValueError:\n",
    "    print(\"Error: Invalid input. Please enter a valid number.\")\n",
    "except KeyError:\n",
    "    print(\"Error: The key you are trying to access does not exist in the dictionary.\")\n",
    "except Exception as e:\n",
    "    print(f\"An unexpected error occurred: {e}\")\n"
   ]
  },
  {
   "cell_type": "markdown",
   "metadata": {},
   "source": [
    "13. How would you check if a file exists before attempting to read it in Python?"
   ]
  },
  {
   "cell_type": "code",
   "execution_count": null,
   "metadata": {},
   "outputs": [],
   "source": [
    "import os\n",
    "\n",
    "file_path = 'file.txt'\n",
    "\n",
    "if os.path.exists(file_path):\n",
    "    with open(file_path, 'r') as file:\n",
    "        content = file.read()\n",
    "        print(content)\n",
    "else:\n",
    "    print(f\"The file {file_path} does not exist.\")\n"
   ]
  },
  {
   "cell_type": "markdown",
   "metadata": {},
   "source": [
    "14. Write a program that uses the logging module to log both informational and error messages."
   ]
  },
  {
   "cell_type": "code",
   "execution_count": null,
   "metadata": {},
   "outputs": [],
   "source": [
    "import logging\n",
    "\n",
    "# Set up logging configuration\n",
    "logging.basicConfig(filename='app.log', level=logging.DEBUG, format='%(asctime)s - %(levelname)s - %(message)s')\n",
    "\n",
    "# Log an informational message\n",
    "logging.info(\"This is an informational message.\")\n",
    "\n",
    "# Log an error message\n",
    "try:\n",
    "    result = 10 / 0  # This will raise a division by zero error\n",
    "except ZeroDivisionError as e:\n",
    "    logging.error(\"Error: Division by zero occurred. Exception: %s\", e)\n"
   ]
  },
  {
   "cell_type": "markdown",
   "metadata": {},
   "source": [
    "15. Write a Python program that prints the content of a file and handles the case when the file is empty."
   ]
  },
  {
   "cell_type": "code",
   "execution_count": null,
   "metadata": {},
   "outputs": [],
   "source": [
    "try:\n",
    "    with open('file.txt', 'r') as file:\n",
    "        content = file.read()\n",
    "        if content:\n",
    "            print(content)\n",
    "        else:\n",
    "            print(\"The file is empty.\")\n",
    "except FileNotFoundError:\n",
    "    print(\"Error: The file does not exist.\")\n"
   ]
  },
  {
   "cell_type": "markdown",
   "metadata": {},
   "source": [
    "16.  Demonstrate how to use memory profiling to check the memory usage of a small program."
   ]
  },
  {
   "cell_type": "code",
   "execution_count": null,
   "metadata": {},
   "outputs": [],
   "source": [
    "from memory_profiler import profile\n",
    "\n",
    "@profile\n",
    "def my_function():\n",
    "    a = [1] * (10**6)  # Create a list with 1 million integers\n",
    "    b = [2] * (2 * 10**7)  # Create a larger list with 20 million integers\n",
    "    del b  # Delete the larger list to free memory\n",
    "    return a\n",
    "\n",
    "if __name__ == \"__main__\":\n",
    "    my_function()\n"
   ]
  },
  {
   "cell_type": "markdown",
   "metadata": {},
   "source": [
    "17.  Write a Python program to create and write a list of numbers to a file, one number per line."
   ]
  },
  {
   "cell_type": "code",
   "execution_count": null,
   "metadata": {},
   "outputs": [],
   "source": [
    "numbers = [1, 2, 3, 4, 5, 6, 7, 8, 9, 10]\n",
    "\n",
    "# Open a file for writing\n",
    "with open('numbers.txt', 'w') as file:\n",
    "    for number in numbers:\n",
    "        file.write(f\"{number}\\n\")\n"
   ]
  },
  {
   "cell_type": "markdown",
   "metadata": {},
   "source": [
    "18.  How would you implement a basic logging setup that logs to a file with rotation after 1MB?"
   ]
  },
  {
   "cell_type": "code",
   "execution_count": null,
   "metadata": {},
   "outputs": [],
   "source": [
    "import logging\n",
    "from logging.handlers import RotatingFileHandler\n",
    "\n",
    "# Set up a rotating file handler with a maximum size of 1MB\n",
    "handler = RotatingFileHandler('app.log', maxBytes=1*1024*1024, backupCount=3)\n",
    "handler.setLevel(logging.INFO)\n",
    "\n",
    "# Create a logger\n",
    "logger = logging.getLogger()\n",
    "logger.setLevel(logging.INFO)\n",
    "\n",
    "# Create a formatter and attach it to the handler\n",
    "formatter = logging.Formatter('%(asctime)s - %(levelname)s - %(message)s')\n",
    "handler.setFormatter(formatter)\n",
    "\n",
    "# Add the handler to the logger\n",
    "logger.addHandler(handler)\n",
    "\n",
    "# Log some messages\n",
    "for i in range(1000):\n",
    "    logger.info(f\"This is log message number {i+1}\")\n"
   ]
  },
  {
   "cell_type": "markdown",
   "metadata": {},
   "source": [
    "19. Write a program that handles both IndexError and KeyError using a try-except block."
   ]
  },
  {
   "cell_type": "code",
   "execution_count": null,
   "metadata": {},
   "outputs": [],
   "source": [
    "my_list = [1, 2, 3]\n",
    "my_dict = {'a': 1, 'b': 2}\n",
    "\n",
    "try:\n",
    "    # Trying to access an invalid index in the list\n",
    "    print(my_list[5])\n",
    "    \n",
    "    # Trying to access a non-existent key in the dictionary\n",
    "    print(my_dict['c'])\n",
    "except IndexError:\n",
    "    print(\"Error: Index is out of range in the list.\")\n",
    "except KeyError:\n",
    "    print(\"Error: The key does not exist in the dictionary.\")\n"
   ]
  },
  {
   "cell_type": "markdown",
   "metadata": {},
   "source": [
    "20. How would you open a file and read its contents using a context manager in Python?"
   ]
  },
  {
   "cell_type": "code",
   "execution_count": null,
   "metadata": {},
   "outputs": [],
   "source": [
    "with open('file.txt', 'r') as file:\n",
    "    content = file.read()\n",
    "    print(content)\n"
   ]
  },
  {
   "cell_type": "markdown",
   "metadata": {},
   "source": [
    "21. Write a Python program that reads a file and prints the number of occurrences of a specific word."
   ]
  },
  {
   "cell_type": "code",
   "execution_count": null,
   "metadata": {},
   "outputs": [],
   "source": [
    "def count_word_occurrences(file_path, word_to_find):\n",
    "    try:\n",
    "        with open(file_path, 'r') as file:\n",
    "            content = file.read()\n",
    "            word_count = content.lower().split().count(word_to_find.lower())\n",
    "        print(f\"The word '{word_to_find}' appears {word_count} times in the file.\")\n",
    "    except FileNotFoundError:\n",
    "        print(f\"Error: The file '{file_path}' does not exist.\")\n",
    "\n",
    "# Example usage\n",
    "file_path = 'file.txt'\n",
    "word_to_find = 'python'\n",
    "count_word_occurrences(file_path, word_to_find)\n"
   ]
  },
  {
   "cell_type": "markdown",
   "metadata": {},
   "source": [
    "22.  How can you check if a file is empty before attempting to read its contents?"
   ]
  },
  {
   "cell_type": "code",
   "execution_count": null,
   "metadata": {},
   "outputs": [],
   "source": [
    "import os\n",
    "\n",
    "file_path = 'file.txt'\n",
    "\n",
    "# Check if the file is empty\n",
    "if os.path.getsize(file_path) == 0:\n",
    "    print(f\"The file '{file_path}' is empty.\")\n",
    "else:\n",
    "    with open(file_path, 'r') as file:\n",
    "        content = file.read()\n",
    "        print(content)\n"
   ]
  },
  {
   "cell_type": "markdown",
   "metadata": {},
   "source": [
    "23.  Write a Python program that writes to a log file when an error occurs during file handling."
   ]
  },
  {
   "cell_type": "code",
   "execution_count": null,
   "metadata": {},
   "outputs": [],
   "source": [
    "import logging\n",
    "\n",
    "# Set up logging configuration to write errors to a log file\n",
    "logging.basicConfig(filename='file_handling_errors.log', level=logging.ERROR, \n",
    "                    format='%(asctime)s - %(levelname)s - %(message)s')\n",
    "\n",
    "try:\n",
    "    # Try to open a file for reading (non-existent file for demonstration)\n",
    "    with open('non_existent_file.txt', 'r') as file:\n",
    "        content = file.read()\n",
    "except FileNotFoundError as e:\n",
    "    # Log the error if the file is not found\n",
    "    logging.error(f\"Error: {e}\")\n",
    "except Exception as e:\n",
    "    # Log any other unexpected error\n",
    "    logging.error(f\"Unexpected error occurred: {e}\")\n"
   ]
  },
  {
   "cell_type": "markdown",
   "metadata": {},
   "source": []
  }
 ],
 "metadata": {
  "kernelspec": {
   "display_name": "base",
   "language": "python",
   "name": "python3"
  },
  "language_info": {
   "codemirror_mode": {
    "name": "ipython",
    "version": 3
   },
   "file_extension": ".py",
   "mimetype": "text/x-python",
   "name": "python",
   "nbconvert_exporter": "python",
   "pygments_lexer": "ipython3",
   "version": "3.12.7"
  }
 },
 "nbformat": 4,
 "nbformat_minor": 2
}
