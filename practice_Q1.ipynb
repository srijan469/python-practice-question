{
 "cells": [
  {
   "cell_type": "markdown",
   "metadata": {},
   "source": [
    "# PYHTON BASICS QUESTIONS\n",
    "\n",
    "1. what is python , and why is it popular?\n",
    "\n",
    "-->  Python is higher level programming language and it is easy to understand and also for write. Python can easily write large number of codes of any language into smaller code using an extensive standard library and third party packages of various domains.\n",
    " \n",
    "--> It is popular because it is compatible with various programming paradigms, such as procedural, object-oriented and functional programming.\n",
    "\n",
    "2. what is an interpreter in python?\n",
    "\n",
    "--> It is a  translater between human and computer. means an interpreter is a program that reads and execute program line bye line, by translating machine code into understandble code that computer can easily understand..\n",
    "\n",
    "3.  What are pre-defined keywords in Python\n",
    "\n",
    "-->  pre-defined keywords are those keywords which have a special meaning and it can not be used as variable or identifiers.. and it is case sensitive so that's why it cannot be redifined in python\n",
    "example - int , while,for, if, else ,etc..\n",
    "also by write help('keyword') it will be shows all the keyword in python"
   ]
  },
  {
   "cell_type": "code",
   "execution_count": 5,
   "metadata": {},
   "outputs": [
    {
     "name": "stdout",
     "output_type": "stream",
     "text": [
      "\n",
      "Here is a list of the Python keywords.  Enter any keyword to get more help.\n",
      "\n",
      "False               class               from                or\n",
      "None                continue            global              pass\n",
      "True                def                 if                  raise\n",
      "and                 del                 import              return\n",
      "as                  elif                in                  try\n",
      "assert              else                is                  while\n",
      "async               except              lambda              with\n",
      "await               finally             nonlocal            yield\n",
      "break               for                 not                 \n",
      "\n"
     ]
    }
   ],
   "source": [
    "help('keywords')\n"
   ]
  },
  {
   "cell_type": "markdown",
   "metadata": {
    "vscode": {
     "languageId": "raw"
    }
   },
   "source": [
    "4. Can keywords be used as variable names?\n",
    "\n",
    "--> No, keywords cannot be used as variable names..\n",
    "because every keyword have a special meaning and purpose in the syntex of python.This words are predefined in pyhton and it is a part of the language's grammer in python.\n",
    "example:-- if ,else,while, True , etc..\n",
    "\n",
    "--> if keywords use as a varable in python then it will be through syntex error"
   ]
  },
  {
   "cell_type": "code",
   "execution_count": 8,
   "metadata": {},
   "outputs": [
    {
     "ename": "SyntaxError",
     "evalue": "invalid syntax (697941355.py, line 1)",
     "output_type": "error",
     "traceback": [
      "\u001b[1;36m  Cell \u001b[1;32mIn[8], line 1\u001b[1;36m\u001b[0m\n\u001b[1;33m    if = 7\u001b[0m\n\u001b[1;37m       ^\u001b[0m\n\u001b[1;31mSyntaxError\u001b[0m\u001b[1;31m:\u001b[0m invalid syntax\n"
     ]
    }
   ],
   "source": [
    "#example\n",
    "if = 7\n",
    "print(if)\n"
   ]
  },
  {
   "cell_type": "markdown",
   "metadata": {},
   "source": [
    "5. What is mutability in Python?\n",
    "\n",
    "--> Mutability in python that means object can be changable. like list , set , dictinories and one's it is stored any data then it will be easily changablep or add data."
   ]
  },
  {
   "cell_type": "code",
   "execution_count": 9,
   "metadata": {},
   "outputs": [
    {
     "name": "stdout",
     "output_type": "stream",
     "text": [
      "[5, 2, 3]\n"
     ]
    }
   ],
   "source": [
    "#example\n",
    "list = [1,2,3]\n",
    "list[0]=5\n",
    "print(list)\n"
   ]
  },
  {
   "cell_type": "markdown",
   "metadata": {},
   "source": [
    "6. Why are lists mutable, but tuples are immutable?\n",
    "--> \n",
    "   1.  list in python was designed for flexibility in mind, allowing for dynamic updates. and on the other hand tuples are designed for ensuring data integrity and consistency.\n",
    "\n",
    "   2.  list is mutable and need more memory to support like appending , modifying or removing elements. tuples are immutable and more memory efficient because their  content cannot change.\n",
    "   3. list content are flexible that's why data can be overwritten easily so here data are not protect as tuple's. Tuples's are immutable for this reason it is useful when you want to protect the integrity of the data\n",
    "\n",
    "\n",
    "7. What is the difference between “==” and “is” operators in Python?\n",
    "\n",
    "--> main differnce between '==' and 'is' is , '==' it is called as a equality operator and 'is' is called as a identity operator. == is used to compare the values of two objects. it check that both values are equal or not. is operator used for compare two refernce point to the same object in memrory and it checks the two object are the same object and not just equal in value "
   ]
  },
  {
   "cell_type": "code",
   "execution_count": 12,
   "metadata": {},
   "outputs": [
    {
     "name": "stdout",
     "output_type": "stream",
     "text": [
      "both list are same \n",
      "True\n"
     ]
    }
   ],
   "source": [
    "#exampole\n",
    "\n",
    "x= \"srijan\"\n",
    "y= \"srijan\"\n",
    "\n",
    "if x == y:\n",
    "    print('both list are same ')#true because both are same value\n",
    "\n",
    "x=y\n",
    "print(x is y)# true because both refers to the same obeject in memory\n"
   ]
  },
  {
   "cell_type": "markdown",
   "metadata": {},
   "source": [
    "8. What are logical operators in Python?\n",
    "\n",
    "--> in python, logical operators are used for combine 2 or more statement or condition. it allows operators to perform valus in boolean like True or False. and it is used in commonly conditional statements like if ,elif and while.\n",
    " \n",
    " -->the three operators are:- \n",
    " \n",
    " and:- return true when both condition are ture\n",
    " or:- return true when atleast one condition are true.\n",
    " not:- reverses the boolean value of any condition. \n",
    "\n"
   ]
  },
  {
   "cell_type": "markdown",
   "metadata": {},
   "source": [
    "9. What is type casting in Python?\n",
    "\n",
    "--> type casting or type conversion is a process of changing the data type of a value. In python in-build function for type casting are int(),float(),dict(),str(),list(),etc..\n",
    "\n",
    "10. What is the difference between implicit and explicit type casting?\n",
    "\n",
    "--> their are two type's in type casting--\n",
    "\n",
    "1.Explicit type casting:- convert data type using in-built function like str,int,float.\n",
    "\n",
    "2.implicit type casting:- Here machine understand the data type."
   ]
  },
  {
   "cell_type": "code",
   "execution_count": 7,
   "metadata": {},
   "outputs": [
    {
     "name": "stdout",
     "output_type": "stream",
     "text": [
      "<class 'str'>\n",
      "5\n",
      "<class 'int'>\n"
     ]
    }
   ],
   "source": [
    "#example\n",
    "a =\"5\"\n",
    "#implicit understand data type because the value is between (\"\") so it shows the dat type as string\n",
    "print(type(a))\n",
    "\n",
    "#explicit\n",
    "print(int(a))#convert data type value from string to integer using int function\n",
    "print(type(int(a)))\n"
   ]
  },
  {
   "cell_type": "markdown",
   "metadata": {},
   "source": [
    "11.  What is the purpose of conditional statements in Python?\n",
    "\n",
    "--> It use in real time scenarios where it's cheak the conditon of 2 or more condtional statement for make a decisions in your code by executing different block of codes.They enable your program to choose different path of execution on whether specific are True or False.\n",
    "\n",
    "-- Types of conditional statement in python\n",
    "1. if statement is used to test a conditon is True or False \n",
    "\n",
    "Example"
   ]
  },
  {
   "cell_type": "code",
   "execution_count": 11,
   "metadata": {},
   "outputs": [
    {
     "name": "stdout",
     "output_type": "stream",
     "text": [
      "a is less then b \n"
     ]
    }
   ],
   "source": [
    "a = 10\n",
    "b = 12\n",
    "if a <= b:\n",
    "    print(\"a is less then b \")\n"
   ]
  },
  {
   "cell_type": "markdown",
   "metadata": {},
   "source": [
    "2. else condtion is use after if condtion when the statemet is False. then else is executed.\n",
    "\n",
    "Example"
   ]
  },
  {
   "cell_type": "code",
   "execution_count": 12,
   "metadata": {},
   "outputs": [
    {
     "name": "stdout",
     "output_type": "stream",
     "text": [
      "a is less then b\n"
     ]
    }
   ],
   "source": [
    "a = 20\n",
    "b = 30\n",
    "if a > b :\n",
    "    print(\"a is greater then b\")\n",
    "else:\n",
    "    print(\"a is less then b\")\n"
   ]
  },
  {
   "cell_type": "markdown",
   "metadata": {},
   "source": [
    "3. elif statement is used for test multiple number of condition.It break the code if the conditon is True. \n",
    "\n",
    "Example"
   ]
  },
  {
   "cell_type": "code",
   "execution_count": 16,
   "metadata": {},
   "outputs": [
    {
     "name": "stdout",
     "output_type": "stream",
     "text": [
      "you are senior citizen\n"
     ]
    }
   ],
   "source": [
    "age =85\n",
    "if age <=18:\n",
    "    print(\"you are children\")\n",
    "elif age<=24:\n",
    "    print(\"you are adult\")\n",
    "elif age<=50:\n",
    "    print(\"you are senior\")\n",
    "else:\n",
    "    print(\"you are senior citizen\")\n"
   ]
  },
  {
   "cell_type": "markdown",
   "metadata": {},
   "source": [
    "4. There is a another conditonal statement is nested conditions where you can write condition as nest.\n",
    "\n",
    "Example"
   ]
  },
  {
   "cell_type": "code",
   "execution_count": 18,
   "metadata": {},
   "outputs": [
    {
     "name": "stdout",
     "output_type": "stream",
     "text": [
      "you are adult\n",
      "you can drive\n"
     ]
    }
   ],
   "source": [
    "age =22\n",
    "has_licence= True\n",
    "if age <=18:\n",
    "    print(\"you are children\")\n",
    "elif age<=24:\n",
    "    print(\"you are adult\")\n",
    "    if has_licence:\n",
    "        print(\"you can drive\")\n",
    "    else:\n",
    "        print(\"you need a licence\")\n",
    "else:\n",
    "    print(\"you are senior citizen\")\n"
   ]
  },
  {
   "cell_type": "markdown",
   "metadata": {},
   "source": [
    "12.  How does the elif statement work?\n",
    "\n",
    "--> it use to cheak to one or more condition. It is flexible for more complex scenarios.\n",
    "\n",
    "how its work--\n",
    "syntex"
   ]
  },
  {
   "cell_type": "code",
   "execution_count": null,
   "metadata": {
    "vscode": {
     "languageId": "html"
    }
   },
   "outputs": [],
   "source": [
    "if condition1:\n",
    "    #block of code\n",
    "elif condition2:\n",
    "    #block of code\n",
    "else:\n",
    "    block of code\n"
   ]
  },
  {
   "cell_type": "code",
   "execution_count": 27,
   "metadata": {},
   "outputs": [
    {
     "name": "stdout",
     "output_type": "stream",
     "text": [
      "play other games at home\n"
     ]
    }
   ],
   "source": [
    "sunny =  False\n",
    "rainy = False\n",
    "if sunny:\n",
    "    print(\"you can play outside\")\n",
    "elif rainy:\n",
    "    print(\"you cannot play out side\")\n",
    "else:\n",
    "    print(\"play other games at home\")\n"
   ]
  },
  {
   "cell_type": "markdown",
   "metadata": {},
   "source": [
    "13. What is the difference between for and while loops?\n",
    "\n",
    "-->In python loops are used to repeat a sequence of action until a specific condition is fulfilled.\n",
    "In python loops are two types-- For loop and while loop\n",
    "\n",
    "For loop used for iterating over a sequence of elements and while loop used to executed until the condtion become False. while loop complex then For loop and it is hard to understand then for loop\n",
    "\n",
    "Example of For and While loop--"
   ]
  },
  {
   "cell_type": "code",
   "execution_count": 30,
   "metadata": {},
   "outputs": [
    {
     "name": "stdout",
     "output_type": "stream",
     "text": [
      "1\n",
      "2\n",
      "3\n",
      "4\n",
      "5\n",
      "6\n",
      "7\n",
      "8\n",
      "9\n",
      "10\n"
     ]
    }
   ],
   "source": [
    "#for loop for print 1 to 10\n",
    "for i in range(1,11):\n",
    "    print(i)\n"
   ]
  },
  {
   "cell_type": "code",
   "execution_count": 29,
   "metadata": {},
   "outputs": [
    {
     "name": "stdout",
     "output_type": "stream",
     "text": [
      "1 2 3 4 5 6 7 8 9 10 "
     ]
    }
   ],
   "source": [
    "#while loop for print 1 to 10\n",
    "a =1\n",
    "while a<=10:\n",
    "    print(a,end=' ')\n",
    "    a +=1\n"
   ]
  },
  {
   "cell_type": "markdown",
   "metadata": {},
   "source": [
    "14. Describe a scenario where a while loop is more suitable than a for loop.\n",
    "\n",
    "--> while loop is more suitable then For loop because of where the condition is unknown and the loop needs to executing until the condition is True. This makes While loop ldeal for situation where you want to repeat any task but you can't define the numnber of iritation in advance.\n",
    "\n",
    "Scenario: Information storing\n",
    "\n",
    " imagine you are writing a program for school where school foundation need to stored details of student's. Here you don't know how many student are  registerd in the school so you can't use for loop with a fixed range, then  you need to use while loop which contines the code for entering n number of student details."
   ]
  },
  {
   "cell_type": "markdown",
   "metadata": {},
   "source": [
    "# PRACTICAL QUESTION"
   ]
  },
  {
   "cell_type": "markdown",
   "metadata": {},
   "source": [
    "1. Write a Python program to print \"Hello, World!\""
   ]
  },
  {
   "cell_type": "code",
   "execution_count": 31,
   "metadata": {},
   "outputs": [
    {
     "name": "stdout",
     "output_type": "stream",
     "text": [
      "Hello, World!\n"
     ]
    }
   ],
   "source": [
    "print(\"Hello, World!\")\n"
   ]
  },
  {
   "cell_type": "markdown",
   "metadata": {},
   "source": [
    "2.  Write a Python program that displays your name and age."
   ]
  },
  {
   "cell_type": "code",
   "execution_count": null,
   "metadata": {},
   "outputs": [
    {
     "name": "stdout",
     "output_type": "stream",
     "text": [
      "srijan\n",
      "20\n"
     ]
    }
   ],
   "source": [
    "name = input(\"enter your name\")\n",
    "age = int(input(\"emter your age\"))\n",
    "\n",
    "print(name)\n",
    "print(age)\n"
   ]
  },
  {
   "cell_type": "markdown",
   "metadata": {},
   "source": [
    "3. Write code to print all the pre-defined keywords in Python using the keyword library."
   ]
  },
  {
   "cell_type": "code",
   "execution_count": 34,
   "metadata": {},
   "outputs": [
    {
     "name": "stdout",
     "output_type": "stream",
     "text": [
      "\n",
      "Here is a list of the Python keywords.  Enter any keyword to get more help.\n",
      "\n",
      "False               class               from                or\n",
      "None                continue            global              pass\n",
      "True                def                 if                  raise\n",
      "and                 del                 import              return\n",
      "as                  elif                in                  try\n",
      "assert              else                is                  while\n",
      "async               except              lambda              with\n",
      "await               finally             nonlocal            yield\n",
      "break               for                 not                 \n",
      "\n"
     ]
    }
   ],
   "source": [
    "help(\"keywords\")\n"
   ]
  },
  {
   "cell_type": "markdown",
   "metadata": {},
   "source": [
    "4. Write a program that checks if a given word is a Python keyword."
   ]
  },
  {
   "cell_type": "code",
   "execution_count": 49,
   "metadata": {},
   "outputs": [
    {
     "name": "stdout",
     "output_type": "stream",
     "text": [
      "def is a python keyword\n"
     ]
    }
   ],
   "source": [
    "import keyword\n",
    "\n",
    "a = input(\"enter a value:\")\n",
    "\n",
    "if keyword.iskeyword(a):\n",
    "    print(f\"{a} is a python keyword\")\n",
    "else:\n",
    "    print(f\"{a}is not a python keyword\")   \n",
    "    "
   ]
  },
  {
   "cell_type": "markdown",
   "metadata": {},
   "source": [
    "5.  Create a list and tuple in Python, and demonstrate how attempting to change an element works differently \n",
    "for each."
   ]
  },
  {
   "cell_type": "code",
   "execution_count": null,
   "metadata": {},
   "outputs": [
    {
     "name": "stdout",
     "output_type": "stream",
     "text": [
      "[1, 2, 3, 4, 5, 6]\n",
      "[20, 2, 3, 4, 5, 6]\n",
      "(1, 2, 3, 4, 6, 5)\n"
     ]
    },
    {
     "ename": "TypeError",
     "evalue": "'tuple' object does not support item assignment",
     "output_type": "error",
     "traceback": [
      "\u001b[1;31m---------------------------------------------------------------------------\u001b[0m",
      "\u001b[1;31mTypeError\u001b[0m                                 Traceback (most recent call last)",
      "Cell \u001b[1;32mIn[52], line 14\u001b[0m\n\u001b[0;32m     12\u001b[0m \u001b[38;5;66;03m#attempting to change th tuple\u001b[39;00m\n\u001b[0;32m     13\u001b[0m \u001b[38;5;28mprint\u001b[39m(\u001b[38;5;28mtuple\u001b[39m)\u001b[38;5;66;03m#original tuple\u001b[39;00m\n\u001b[1;32m---> 14\u001b[0m \u001b[38;5;28mtuple\u001b[39m[\u001b[38;5;241m0\u001b[39m]\u001b[38;5;241m=\u001b[39m\u001b[38;5;241m5\u001b[39m\n\u001b[0;32m     15\u001b[0m \u001b[38;5;28mprint\u001b[39m(\u001b[38;5;28mtuple\u001b[39m)\n",
      "\u001b[1;31mTypeError\u001b[0m: 'tuple' object does not support item assignment"
     ]
    }
   ],
   "source": [
    "#creating a list\n",
    "list = [1,2,3,4,5,6]\n",
    "#creating a tuple\n",
    "tuple = (1,2,3,4,6,5)\n",
    "\n",
    "\n",
    "#attempting to change the list\n",
    "print(list)# original list\n",
    "list[0]= 20\n",
    "print(list)# after updating the value of 0 index\n",
    "\n",
    "#attempting to change th tuple\n",
    "print(tuple)#original tuple\n",
    "tuple[0]=5 #try to change the value\n",
    "print(tuple)#Tuple is immutable so it's through an error\n"
   ]
  },
  {
   "cell_type": "markdown",
   "metadata": {},
   "source": [
    "6. Write a function to demonstrate the behavior of mutable and immutable arguments.\n"
   ]
  },
  {
   "cell_type": "code",
   "execution_count": 53,
   "metadata": {},
   "outputs": [
    {
     "ename": "TypeError",
     "evalue": "cheak_behavior() missing 1 required positional argument: 'immutable'",
     "output_type": "error",
     "traceback": [
      "\u001b[1;31m---------------------------------------------------------------------------\u001b[0m",
      "\u001b[1;31mTypeError\u001b[0m                                 Traceback (most recent call last)",
      "Cell \u001b[1;32mIn[53], line 7\u001b[0m\n\u001b[0;32m      5\u001b[0m \u001b[38;5;28mlist\u001b[39m \u001b[38;5;241m=\u001b[39m[\u001b[38;5;241m1\u001b[39m,\u001b[38;5;241m2\u001b[39m,\u001b[38;5;241m3\u001b[39m]\n\u001b[0;32m      6\u001b[0m \u001b[38;5;28mtuple\u001b[39m\u001b[38;5;241m=\u001b[39m(\u001b[38;5;241m1\u001b[39m,\u001b[38;5;241m2\u001b[39m,\u001b[38;5;241m3\u001b[39m)\n\u001b[1;32m----> 7\u001b[0m cheak_behavior(\u001b[38;5;28mlist\u001b[39m,\u001b[38;5;28mtuple\u001b[39m)\n",
      "\u001b[1;31mTypeError\u001b[0m: cheak_behavior() missing 1 required positional argument: 'immutable'"
     ]
    }
   ],
   "source": [
    "def cheak_behavior(self,mutable,immutable):\n",
    "    self.mutable = mutable\n",
    "    self.immutable= immutable\n",
    "\n",
    "list =[1,2,3]\n",
    "tuple=(1,2,3)\n",
    "cheak_behavior(list,tuple)\n"
   ]
  },
  {
   "cell_type": "markdown",
   "metadata": {},
   "source": [
    "7. Write a function to demonstrate the behavior of mutable and immutable arguments.\n",
    "\n",
    "--> same answer as 6"
   ]
  },
  {
   "cell_type": "markdown",
   "metadata": {},
   "source": [
    "8. Write a program to demonstrate the use of logical operators."
   ]
  },
  {
   "cell_type": "code",
   "execution_count": null,
   "metadata": {},
   "outputs": [
    {
     "name": "stdout",
     "output_type": "stream",
     "text": [
      "you scored 11 it means you are fail\n",
      "you are not eligable for scholership\n",
      "work hard \n"
     ]
    }
   ],
   "source": [
    "\n",
    "#creating a variable that take data from the user  \n",
    "grade = int(input(\"enter your number:\")) \n",
    "\n",
    "\n",
    "#creating a conditon to print grade using logical operator and \n",
    "if (grade>=80) and (grade<100):\n",
    "    print(f\"you scored { grade} and your grade is A\")\n",
    "elif (grade>=50):\n",
    "    print(f\"you scored { grade} and your grade is B\")\n",
    "else:\n",
    "    print(f\"you scored { grade} it means you are fail\")\n",
    "\n",
    "\n",
    "#using or logical operator\n",
    "if (grade>60) or (grade ==60):\n",
    "    print(\"you are eligable for scholership\")\n",
    "else:\n",
    "    print(\"you are not eligable for scholership\")\n",
    "\n",
    "#using not operator\n",
    "if not(grade<10):\n",
    "    print(\"work hard \")\n",
    "else:\n",
    "    print(\"you are a failure\")\n"
   ]
  },
  {
   "cell_type": "markdown",
   "metadata": {},
   "source": [
    "9. Write a Python program to convert user input from string to integer, float, and boolean types."
   ]
  },
  {
   "cell_type": "code",
   "execution_count": 11,
   "metadata": {},
   "outputs": [
    {
     "name": "stdout",
     "output_type": "stream",
     "text": [
      "<class 'int'>\n",
      "<class 'float'>\n",
      "<class 'bool'>\n"
     ]
    }
   ],
   "source": [
    "a = input(\"enter number:\")  # input() returns a string\n",
    "\n",
    "# converting string into integer\n",
    "b = int(a)\n",
    "print(type(b))  # Print the type of b\n",
    "\n",
    "# converting string into float\n",
    "c = float(a)\n",
    "print(type(c))  # Print the type of c\n",
    "\n",
    "# converting to boolean\n",
    "d = bool(a)\n",
    "print(type(d))  # Print the type of d\n"
   ]
  },
  {
   "cell_type": "markdown",
   "metadata": {},
   "source": [
    "10. Write code to demonstrate type casting with list elements."
   ]
  },
  {
   "cell_type": "code",
   "execution_count": 8,
   "metadata": {},
   "outputs": [
    {
     "name": "stdout",
     "output_type": "stream",
     "text": [
      "original list [1, 2.66, '5', True]\n",
      "integer list [1, 2, 5, 1]\n",
      "float list [1.0, 2.66, 5.0, 1.0]\n",
      "string list ['1', '2.66', '5', 'True']\n",
      "boolean list [True, True, True, True]\n"
     ]
    }
   ],
   "source": [
    "#creating a list with all the type cast\n",
    "list = [1,2.66,\"5\",True]\n",
    "#print original list\n",
    "print(\"original list\",list)\n",
    " \n",
    "#convert values in the list into integer\n",
    "for_list = [int(x) for x in list]\n",
    "print(\"integer list\",for_list)\n",
    "\n",
    "#convert values in the list into float\n",
    "for_float = [float(x) for x in list]\n",
    "print(\"float list\",for_float)\n",
    "\n",
    "#convert list values into string\n",
    "for_string = [str(x) for x in list]\n",
    "print(\"string list\",for_string)\n",
    "\n",
    "#convert list values into boolean\n",
    "for_boolean = [bool(x) for x in list]\n",
    "print(\"boolean list\",for_boolean)\n",
    "\n"
   ]
  },
  {
   "cell_type": "markdown",
   "metadata": {},
   "source": [
    "11. Write a program that checks if a number is positive, negative, or zero."
   ]
  },
  {
   "cell_type": "code",
   "execution_count": 14,
   "metadata": {},
   "outputs": [
    {
     "name": "stdout",
     "output_type": "stream",
     "text": [
      "-8 is a negative number\n"
     ]
    }
   ],
   "source": [
    "#create a variable num\n",
    "num = int(input(\"enter a number:\"))\n",
    "\n",
    "if num<= -1: #conditon for negative number\n",
    "    print(f\"{num} is a negative number\")\n",
    "elif num>1: #condition for positive number\n",
    "    print(f\"{num} is positive number\")\n",
    "else: #codition for zero\n",
    "    print(f\"{num} is zero\")\n"
   ]
  },
  {
   "cell_type": "markdown",
   "metadata": {},
   "source": [
    "12. Write a for loop to print numbers from 1 to 10"
   ]
  },
  {
   "cell_type": "code",
   "execution_count": 15,
   "metadata": {},
   "outputs": [
    {
     "name": "stdout",
     "output_type": "stream",
     "text": [
      "1\n",
      "2\n",
      "3\n",
      "4\n",
      "5\n",
      "6\n",
      "7\n",
      "8\n",
      "9\n",
      "10\n"
     ]
    }
   ],
   "source": [
    "#for loop for print numbers\n",
    "\n",
    "for i in range(1,11):\n",
    "    print(i)\n"
   ]
  },
  {
   "cell_type": "markdown",
   "metadata": {},
   "source": [
    "13. Write a Python program to find the sum of all even numbers between 1 and 50."
   ]
  },
  {
   "cell_type": "code",
   "execution_count": 22,
   "metadata": {},
   "outputs": [
    {
     "name": "stdout",
     "output_type": "stream",
     "text": [
      "total of even num 650\n"
     ]
    }
   ],
   "source": [
    "#creating a value to store total sum \n",
    "sum_of_even_nums=0 \n",
    "\n",
    "#creating range using for loop\n",
    "for num in range(1,51):\n",
    "    if num%2==0:\n",
    "       sum_of_even_nums +=num\n",
    "print(\"total of even num\",sum_of_even_nums)    \n"
   ]
  },
  {
   "cell_type": "markdown",
   "metadata": {},
   "source": [
    "14. Write a program to reverse a string using a while loop."
   ]
  },
  {
   "cell_type": "code",
   "execution_count": null,
   "metadata": {},
   "outputs": [
    {
     "name": "stdout",
     "output_type": "stream",
     "text": [
      "najirs\n"
     ]
    }
   ],
   "source": [
    "string = str(input(\"enter a string:\"))\n",
    "\n",
    "reverse_string = \"\"\n",
    "by_indexing = len(string)-1\n",
    "\n",
    "while by_indexing>=0:\n",
    "    reverse_string +=string[by_indexing]\n",
    "    by_indexing -=1\n",
    "\n",
    "print(reverse_string)\n"
   ]
  },
  {
   "cell_type": "markdown",
   "metadata": {},
   "source": [
    "15. Write a Python program to calculate the factorial of a number provided by the user using a while loop."
   ]
  },
  {
   "cell_type": "code",
   "execution_count": null,
   "metadata": {},
   "outputs": [
    {
     "name": "stdout",
     "output_type": "stream",
     "text": [
      "120\n"
     ]
    }
   ],
   "source": [
    "factorial_num = int(input(\"enter a number:\"))\n",
    "\n",
    "factorial = 1\n",
    "while factorial_num >0:\n",
    "    factorial *= factorial_num\n",
    "    factorial_num -= 1\n",
    "print(factorial)\n"
   ]
  }
 ],
 "metadata": {
  "kernelspec": {
   "display_name": "base",
   "language": "python",
   "name": "python3"
  },
  "language_info": {
   "codemirror_mode": {
    "name": "ipython",
    "version": 3
   },
   "file_extension": ".py",
   "mimetype": "text/x-python",
   "name": "python",
   "nbconvert_exporter": "python",
   "pygments_lexer": "ipython3",
   "version": "3.12.7"
  }
 },
 "nbformat": 4,
 "nbformat_minor": 2
}
